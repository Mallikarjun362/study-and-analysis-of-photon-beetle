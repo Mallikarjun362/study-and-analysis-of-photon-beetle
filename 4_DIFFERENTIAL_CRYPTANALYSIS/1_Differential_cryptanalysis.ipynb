{
 "cells": [
  {
   "cell_type": "markdown",
   "id": "93d59afe",
   "metadata": {},
   "source": [
    "# Differential Cryptanalysis of PHOTON<sub>256</sub>"
   ]
  },
  {
   "cell_type": "markdown",
   "id": "b4e29e7d",
   "metadata": {},
   "source": [
    "# Importing necessary libraries"
   ]
  },
  {
   "cell_type": "code",
   "execution_count": 1,
   "id": "29d8014a",
   "metadata": {},
   "outputs": [
    {
     "name": "stdout",
     "output_type": "stream",
     "text": [
      "Galois Field:\n",
      "  name: GF(2^4)\n",
      "  characteristic: 2\n",
      "  degree: 4\n",
      "  order: 16\n",
      "  irreducible_poly: x^4 + x + 1\n",
      "  is_primitive_poly: True\n",
      "  primitive_element: x\n"
     ]
    }
   ],
   "source": [
    "import random\n",
    "import copy\n",
    "from collections import deque\n",
    "from IPython.core.display import HTML , Math\n",
    "import galois\n",
    "GF = galois.GF(2**4)\n",
    "print(GF.properties)"
   ]
  },
  {
   "cell_type": "code",
   "execution_count": 2,
   "id": "8ae8933e",
   "metadata": {},
   "outputs": [
    {
     "data": {
      "text/html": [
       "<style type=\"text/css\">\n",
       "tr ,td {\n",
       "    border: 1px  black solid !important;\n",
       "  color: white !important;\n",
       "}\n",
       "</style>\n"
      ],
      "text/plain": [
       "<IPython.core.display.HTML object>"
      ]
     },
     "metadata": {},
     "output_type": "display_data"
    }
   ],
   "source": [
    "%%HTML\n",
    "<style type=\"text/css\">\n",
    "tr ,td {\n",
    "    border: 1px  black solid !important;\n",
    "  color: white !important;\n",
    "}\n",
    "</style>"
   ]
  },
  {
   "cell_type": "markdown",
   "id": "d7063c97",
   "metadata": {},
   "source": [
    "# PHOTON<sub>256</sub> Permutation function"
   ]
  },
  {
   "cell_type": "code",
   "execution_count": 3,
   "id": "355d5164",
   "metadata": {},
   "outputs": [],
   "source": [
    "# ---------------------------------------- PHOTON-256-PERMUTATION ---------------------------------------------\n",
    "## SBOX LIST\n",
    "sbox_list = [0xc,5,6,0xb,9,0,0xa,0xd,3,0xe,0xf,8,4,7,1,2]\n",
    "def list_64_to_8x8_matrix(s) -> list[list[int]]:\n",
    "    assert len(s) == 64\n",
    "    m = [[s[i+(j*8)] for j in range(8)] for i in range(8)]\n",
    "    return m\n",
    "def matrix_8x8_to_hex_list(m : list[list[int]]):\n",
    "    lst = []\n",
    "    for col in range(8):\n",
    "        for row in range(8):\n",
    "            lst.append(m[row][col])\n",
    "    return lst\n",
    "## 1.ADD-CONSTANT\n",
    "def add_constant(X : list,k : list):\n",
    "    new_X = copy.deepcopy(X)\n",
    "    RC = [1, 3, 7, 14, 13, 11, 6, 12, 9, 2, 5, 10]\n",
    "    IC = [0, 1, 3, 7, 15, 14, 12, 8]\n",
    "    for i in range(8):\n",
    "        new_X[i][0] = new_X[i][0] ^ RC[k] ^ IC[i]\n",
    "    return new_X\n",
    "## 2.SUB-CELL\n",
    "def sub_cell(X):\n",
    "    new_X = copy.deepcopy(X)\n",
    "    for i in range(8):\n",
    "        for j in range(8):\n",
    "            new_X[i][j] = sbox_list[new_X[i][j]]\n",
    "    return new_X\n",
    "## 3.SHIFT-ROW\n",
    "def shift_row(X):\n",
    "    new_X = copy.deepcopy(X)\n",
    "    for i in range(8):\n",
    "        temp = deque(new_X[i])\n",
    "        temp.rotate(-1*i)\n",
    "        new_X[i] = list(temp)\n",
    "    return new_X\n",
    "# def shift_row(X):\n",
    "#     new_X = copy.deepcopy(X)\n",
    "#     for i in range(8):\n",
    "#         temp = deque(new_X[i])\n",
    "#         temp.rotate(1*i)\n",
    "#         new_X[i] = list(temp)\n",
    "#     return new_X\n",
    "## 4.MIX-COLUMN-SERIAL\n",
    "def serial(lst):\n",
    "    M = []\n",
    "    for i in range(7):\n",
    "        a = [0 for j in range(8)]\n",
    "        a[i+1] = 1\n",
    "        M.append(a)\n",
    "    M.append(copy.deepcopy(lst))\n",
    "    return M\n",
    "def matrix_mul(m1,m2):\n",
    "    new_m = [[0 for j in range(8)] for i in range(8)]\n",
    "    for i in range(8):\n",
    "        for j in range(8):\n",
    "            s = 0\n",
    "            for temp in range(8):\n",
    "                s ^= int(GF(m1[i][temp]) * GF(m2[temp][j]))\n",
    "            new_m[i][j] = s\n",
    "    return new_m\n",
    "def mix_column_serial(X):\n",
    "    new_X = copy.deepcopy(X)\n",
    "    M = serial([2, 4, 2, 11, 2, 8, 5, 6])\n",
    "    M8 = matrix_mul(M,M)\n",
    "    for i in range(6):\n",
    "        M8 = matrix_mul(M8,M)\n",
    "    new_X = matrix_mul(M8,new_X)\n",
    "    return new_X\n",
    "## PHOTON 256 PERMUTATION FUNCTION\n",
    "def PHOTON_256(input_hex_str = \"0123456789abcdef0123456789abcdef0123456789abcdef0123456789abcdef\"):\n",
    "    if type(input_hex_str) == \"\":\n",
    "        input_hex_str = [int(i,16) for i in input_hex_str]\n",
    "    assert len(input_hex_str) == 64\n",
    "    X = list_64_to_8x8_matrix(input_hex_str)\n",
    "    # 0 to 11\n",
    "    for i in range(12):\n",
    "        X = add_constant(X,i)\n",
    "        X = sub_cell(X)\n",
    "        X = shift_row(X)\n",
    "        X = mix_column_serial(X)\n",
    "    X = matrix_8x8_to_hex_list(X)\n",
    "    assert len(X) == 64\n",
    "    return X"
   ]
  },
  {
   "cell_type": "markdown",
   "id": "19e7a4cf",
   "metadata": {},
   "source": [
    "# Utility Functions to visualize propagation of difference"
   ]
  },
  {
   "cell_type": "code",
   "execution_count": 4,
   "id": "a40de06a",
   "metadata": {},
   "outputs": [],
   "source": [
    "def get_coord(bit_pos):\n",
    "    bit_pos -= 1\n",
    "    # RETURNS POSITION\n",
    "    box_num = (bit_pos//4) + 1\n",
    "    bit_pos_in_4 = int(bit_pos % 4)\n",
    "    x = (box_num % 8) - 1\n",
    "    y = box_num // 8\n",
    "    return [(x,y),bit_pos_in_4]\n",
    "def int_to_bin(a,total_length):\n",
    "    return list(map(int,format(a, f'0{total_length}b')))\n",
    "def bin_list_to_int(lst):\n",
    "    a = \"\".join(map(str,lst))\n",
    "    a = int(a,2)\n",
    "    return a\n",
    "def flip_bits(state,bit_flip_positions=[]):\n",
    "    m = copy.deepcopy(state)\n",
    "    for i in bit_flip_positions:\n",
    "        (x,y),bit_position = get_coord(i)\n",
    "        a = int_to_bin(m[x][y],4)\n",
    "        a[bit_position] = (a[bit_position] + 1) % 2\n",
    "        a = bin_list_to_int(a)\n",
    "        m[x][y] = a\n",
    "    return m\n",
    "def flip_boxes(m,box_nums=[]):\n",
    "    new_m = copy.deepcopy(m)\n",
    "    for pos in box_nums:\n",
    "        x = (pos-1) % 8\n",
    "        y = (pos-1) // 8\n",
    "#         print(x,y)\n",
    "        new_m[x][y] = new_m[x][y] ^ 1\n",
    "    return new_m\n",
    "def matrix_xor(m1,m2):\n",
    "    l = len(m1[0])\n",
    "    new_m = [[0 for i in range(l)] for j in range(l)]\n",
    "    for i in range(l):\n",
    "        for j in range(l):\n",
    "            new_m[i][j] = m1[i][j] ^ m2[i][j]\n",
    "    return new_m\n",
    "def get_matrix_str(array,title=\"\"):\n",
    "    matrix = ''\n",
    "    for row in array:\n",
    "        try:\n",
    "            for number in row:\n",
    "                matrix += f'{number}&'\n",
    "        except TypeError:\n",
    "            matrix += f'{row}&'\n",
    "        matrix = matrix[:-1] + r'\\\\'\n",
    "    matrix = r'\\begin{bmatrix}'+matrix+r'\\end{bmatrix}'\n",
    "    titled_matrix = r\"\\begin{matrix}\" +matrix+r\"\\\\\"+title+ r\"\\end{matrix}\"\n",
    "    return titled_matrix\n",
    "\n",
    "def get_hex_matrix_str(array,title=\"\"):\n",
    "    matrix = ''\n",
    "    for row in array:\n",
    "        try:\n",
    "            for number in row:\n",
    "                # matrix += f'{hex(number).split(\"x\")[1]}&'\n",
    "                num = \"{:02x}\".format(number)\n",
    "                matrix += f'{num}&'\n",
    "        except TypeError:\n",
    "            matrix += f'{row}&'\n",
    "        matrix = matrix[:-1] + r'\\\\'\n",
    "    matrix = r'\\begin{bmatrix}'+matrix+r'\\end{bmatrix}'\n",
    "    titled_matrix = r\"\\begin{matrix}\" +matrix+r\"\\\\ \"+title+ r\"\\\\ {} \\end{matrix}\"\n",
    "    return titled_matrix\n",
    "def get_active_matrix_html_str(m):\n",
    "    row_lst = []\n",
    "    a = 30\n",
    "    ri = 1\n",
    "    for row in m:\n",
    "        ci = 0\n",
    "        lst = []\n",
    "        for ele in row:\n",
    "            if ele > 0 :\n",
    "                lst.append(f\"<td style='background-color:black;width:{a}px;height:{a}px;color:white'>{ci*8 + ri}</td>\")\n",
    "            else:\n",
    "                lst.append(f\"<td style='width:{a}px;height:{a}px;color:black'></td>\")\n",
    "            ci += 1\n",
    "        ri += 1\n",
    "        row_str = f\"<tr>{''.join(lst)}</tr>\"\n",
    "        row_lst.append(row_str)\n",
    "    table_str = f\"<table>{''.join(row_lst)}</table>\"\n",
    "    return table_str\n",
    "def show_active_boxes_of_matrix(m):\n",
    "    table_str = get_active_matrix_html_str(m)\n",
    "    display(HTML(table_str))\n",
    "def print_matrix(array,title=\"\"):\n",
    "    display(Math(get_matrix_str(array,title)))\n",
    "def visualize_each_round(states,r=2):\n",
    "    pass\n",
    "def visualize_difference_propagation(msg_a,bit_positions_to_flip = [1,2,3,4]):\n",
    "#     msg_b = flip_bits(msg_a,bit_positions_to_flip)\n",
    "    msg_b = flip_boxes(msg_a,bit_positions_to_flip)\n",
    "    operations = {'AC' : add_constant,'SC' : sub_cell,'SR' : shift_row,'MC' : mix_column_serial}\n",
    "    states = {}\n",
    "    for i in range(12):\n",
    "        for o in operations:\n",
    "            code = f\"{i}-{o}\"\n",
    "            if o == 'AC':\n",
    "                msg_a = copy.deepcopy(add_constant(msg_a,i))\n",
    "                msg_b = copy.deepcopy(add_constant(msg_b,i))\n",
    "                states[code] = matrix_xor(msg_a,msg_b)\n",
    "            else:\n",
    "                msg_a = copy.deepcopy(operations[o](msg_a))\n",
    "                msg_b = copy.deepcopy(operations[o](msg_b))\n",
    "                states[code] = matrix_xor(msg_a,msg_b)\n",
    "    return states"
   ]
  },
  {
   "cell_type": "markdown",
   "id": "0b8caab2",
   "metadata": {},
   "source": [
    "# Implementation of visualization"
   ]
  },
  {
   "cell_type": "code",
   "execution_count": 8,
   "id": "5c2eb715",
   "metadata": {},
   "outputs": [],
   "source": [
    "# [1,9,17,25,10,18,26,34,19,27,35,43,28,36,44,52,37,45,53,61,46,54,62,55,63,64,8,16,24,7,15,6]\n",
    "# pos_m=[\n",
    "#     1,5,6,7,8,\n",
    "#     9,10,14,15,16,\n",
    "#     17,18,19,23,24,\n",
    "#     25,26,27,28,32,\n",
    "#     33,34,35,36,37,\n",
    "#     42,43,44,45,46,\n",
    "#     51,52,53,54,55,\n",
    "#     60,61,62,63,64,\n",
    "# ]\n",
    "pos_m = [1,2,3,4,5]"
   ]
  },
  {
   "cell_type": "code",
   "execution_count": 9,
   "id": "26f0400a",
   "metadata": {},
   "outputs": [],
   "source": [
    "msg_a = [[random.randint(0,15) for i in range(8)] for j in range(8)]\n",
    "temp = visualize_difference_propagation(msg_a,pos_m)"
   ]
  },
  {
   "cell_type": "code",
   "execution_count": 14,
   "id": "18facd02",
   "metadata": {
    "scrolled": false
   },
   "outputs": [
    {
     "data": {
      "text/html": [
       "<table><tr><td style='background-color:black;width:30px;height:30px;color:white'>1</td><td style='width:30px;height:30px;color:black'></td><td style='width:30px;height:30px;color:black'></td><td style='width:30px;height:30px;color:black'></td><td style='width:30px;height:30px;color:black'></td><td style='width:30px;height:30px;color:black'></td><td style='width:30px;height:30px;color:black'></td><td style='width:30px;height:30px;color:black'></td></tr><tr><td style='background-color:black;width:30px;height:30px;color:white'>2</td><td style='width:30px;height:30px;color:black'></td><td style='width:30px;height:30px;color:black'></td><td style='width:30px;height:30px;color:black'></td><td style='width:30px;height:30px;color:black'></td><td style='width:30px;height:30px;color:black'></td><td style='width:30px;height:30px;color:black'></td><td style='width:30px;height:30px;color:black'></td></tr><tr><td style='background-color:black;width:30px;height:30px;color:white'>3</td><td style='width:30px;height:30px;color:black'></td><td style='width:30px;height:30px;color:black'></td><td style='width:30px;height:30px;color:black'></td><td style='width:30px;height:30px;color:black'></td><td style='width:30px;height:30px;color:black'></td><td style='width:30px;height:30px;color:black'></td><td style='width:30px;height:30px;color:black'></td></tr><tr><td style='background-color:black;width:30px;height:30px;color:white'>4</td><td style='width:30px;height:30px;color:black'></td><td style='width:30px;height:30px;color:black'></td><td style='width:30px;height:30px;color:black'></td><td style='width:30px;height:30px;color:black'></td><td style='width:30px;height:30px;color:black'></td><td style='width:30px;height:30px;color:black'></td><td style='width:30px;height:30px;color:black'></td></tr><tr><td style='background-color:black;width:30px;height:30px;color:white'>5</td><td style='width:30px;height:30px;color:black'></td><td style='width:30px;height:30px;color:black'></td><td style='width:30px;height:30px;color:black'></td><td style='width:30px;height:30px;color:black'></td><td style='width:30px;height:30px;color:black'></td><td style='width:30px;height:30px;color:black'></td><td style='width:30px;height:30px;color:black'></td></tr><tr><td style='width:30px;height:30px;color:black'></td><td style='width:30px;height:30px;color:black'></td><td style='width:30px;height:30px;color:black'></td><td style='width:30px;height:30px;color:black'></td><td style='width:30px;height:30px;color:black'></td><td style='width:30px;height:30px;color:black'></td><td style='width:30px;height:30px;color:black'></td><td style='width:30px;height:30px;color:black'></td></tr><tr><td style='width:30px;height:30px;color:black'></td><td style='width:30px;height:30px;color:black'></td><td style='width:30px;height:30px;color:black'></td><td style='width:30px;height:30px;color:black'></td><td style='width:30px;height:30px;color:black'></td><td style='width:30px;height:30px;color:black'></td><td style='width:30px;height:30px;color:black'></td><td style='width:30px;height:30px;color:black'></td></tr><tr><td style='width:30px;height:30px;color:black'></td><td style='width:30px;height:30px;color:black'></td><td style='width:30px;height:30px;color:black'></td><td style='width:30px;height:30px;color:black'></td><td style='width:30px;height:30px;color:black'></td><td style='width:30px;height:30px;color:black'></td><td style='width:30px;height:30px;color:black'></td><td style='width:30px;height:30px;color:black'></td></tr></table>"
      ],
      "text/plain": [
       "<IPython.core.display.HTML object>"
      ]
     },
     "metadata": {},
     "output_type": "display_data"
    },
    {
     "data": {
      "text/html": [
       "<table><tr><td style='background-color:black;width:30px;height:30px;color:white'>1</td><td style='width:30px;height:30px;color:black'></td><td style='width:30px;height:30px;color:black'></td><td style='width:30px;height:30px;color:black'></td><td style='background-color:black;width:30px;height:30px;color:white'>33</td><td style='background-color:black;width:30px;height:30px;color:white'>41</td><td style='background-color:black;width:30px;height:30px;color:white'>49</td><td style='background-color:black;width:30px;height:30px;color:white'>57</td></tr><tr><td style='background-color:black;width:30px;height:30px;color:white'>2</td><td style='width:30px;height:30px;color:black'></td><td style='width:30px;height:30px;color:black'></td><td style='width:30px;height:30px;color:black'></td><td style='background-color:black;width:30px;height:30px;color:white'>34</td><td style='background-color:black;width:30px;height:30px;color:white'>42</td><td style='background-color:black;width:30px;height:30px;color:white'>50</td><td style='background-color:black;width:30px;height:30px;color:white'>58</td></tr><tr><td style='background-color:black;width:30px;height:30px;color:white'>3</td><td style='width:30px;height:30px;color:black'></td><td style='width:30px;height:30px;color:black'></td><td style='width:30px;height:30px;color:black'></td><td style='background-color:black;width:30px;height:30px;color:white'>35</td><td style='background-color:black;width:30px;height:30px;color:white'>43</td><td style='background-color:black;width:30px;height:30px;color:white'>51</td><td style='background-color:black;width:30px;height:30px;color:white'>59</td></tr><tr><td style='background-color:black;width:30px;height:30px;color:white'>4</td><td style='width:30px;height:30px;color:black'></td><td style='width:30px;height:30px;color:black'></td><td style='width:30px;height:30px;color:black'></td><td style='background-color:black;width:30px;height:30px;color:white'>36</td><td style='background-color:black;width:30px;height:30px;color:white'>44</td><td style='background-color:black;width:30px;height:30px;color:white'>52</td><td style='background-color:black;width:30px;height:30px;color:white'>60</td></tr><tr><td style='background-color:black;width:30px;height:30px;color:white'>5</td><td style='width:30px;height:30px;color:black'></td><td style='width:30px;height:30px;color:black'></td><td style='width:30px;height:30px;color:black'></td><td style='background-color:black;width:30px;height:30px;color:white'>37</td><td style='background-color:black;width:30px;height:30px;color:white'>45</td><td style='background-color:black;width:30px;height:30px;color:white'>53</td><td style='background-color:black;width:30px;height:30px;color:white'>61</td></tr><tr><td style='background-color:black;width:30px;height:30px;color:white'>6</td><td style='width:30px;height:30px;color:black'></td><td style='width:30px;height:30px;color:black'></td><td style='width:30px;height:30px;color:black'></td><td style='background-color:black;width:30px;height:30px;color:white'>38</td><td style='background-color:black;width:30px;height:30px;color:white'>46</td><td style='background-color:black;width:30px;height:30px;color:white'>54</td><td style='background-color:black;width:30px;height:30px;color:white'>62</td></tr><tr><td style='background-color:black;width:30px;height:30px;color:white'>7</td><td style='width:30px;height:30px;color:black'></td><td style='width:30px;height:30px;color:black'></td><td style='width:30px;height:30px;color:black'></td><td style='background-color:black;width:30px;height:30px;color:white'>39</td><td style='background-color:black;width:30px;height:30px;color:white'>47</td><td style='background-color:black;width:30px;height:30px;color:white'>55</td><td style='background-color:black;width:30px;height:30px;color:white'>63</td></tr><tr><td style='background-color:black;width:30px;height:30px;color:white'>8</td><td style='width:30px;height:30px;color:black'></td><td style='width:30px;height:30px;color:black'></td><td style='width:30px;height:30px;color:black'></td><td style='background-color:black;width:30px;height:30px;color:white'>40</td><td style='background-color:black;width:30px;height:30px;color:white'>48</td><td style='background-color:black;width:30px;height:30px;color:white'>56</td><td style='background-color:black;width:30px;height:30px;color:white'>64</td></tr></table>"
      ],
      "text/plain": [
       "<IPython.core.display.HTML object>"
      ]
     },
     "metadata": {},
     "output_type": "display_data"
    },
    {
     "data": {
      "text/html": [
       "<table><tr><td style='background-color:black;width:30px;height:30px;color:white'>1</td><td style='background-color:black;width:30px;height:30px;color:white'>9</td><td style='background-color:black;width:30px;height:30px;color:white'>17</td><td style='background-color:black;width:30px;height:30px;color:white'>25</td><td style='background-color:black;width:30px;height:30px;color:white'>33</td><td style='background-color:black;width:30px;height:30px;color:white'>41</td><td style='background-color:black;width:30px;height:30px;color:white'>49</td><td style='background-color:black;width:30px;height:30px;color:white'>57</td></tr><tr><td style='background-color:black;width:30px;height:30px;color:white'>2</td><td style='background-color:black;width:30px;height:30px;color:white'>10</td><td style='background-color:black;width:30px;height:30px;color:white'>18</td><td style='background-color:black;width:30px;height:30px;color:white'>26</td><td style='background-color:black;width:30px;height:30px;color:white'>34</td><td style='background-color:black;width:30px;height:30px;color:white'>42</td><td style='background-color:black;width:30px;height:30px;color:white'>50</td><td style='background-color:black;width:30px;height:30px;color:white'>58</td></tr><tr><td style='background-color:black;width:30px;height:30px;color:white'>3</td><td style='width:30px;height:30px;color:black'></td><td style='background-color:black;width:30px;height:30px;color:white'>19</td><td style='background-color:black;width:30px;height:30px;color:white'>27</td><td style='width:30px;height:30px;color:black'></td><td style='background-color:black;width:30px;height:30px;color:white'>43</td><td style='background-color:black;width:30px;height:30px;color:white'>51</td><td style='width:30px;height:30px;color:black'></td></tr><tr><td style='background-color:black;width:30px;height:30px;color:white'>4</td><td style='background-color:black;width:30px;height:30px;color:white'>12</td><td style='width:30px;height:30px;color:black'></td><td style='background-color:black;width:30px;height:30px;color:white'>28</td><td style='background-color:black;width:30px;height:30px;color:white'>36</td><td style='background-color:black;width:30px;height:30px;color:white'>44</td><td style='width:30px;height:30px;color:black'></td><td style='background-color:black;width:30px;height:30px;color:white'>60</td></tr><tr><td style='background-color:black;width:30px;height:30px;color:white'>5</td><td style='background-color:black;width:30px;height:30px;color:white'>13</td><td style='background-color:black;width:30px;height:30px;color:white'>21</td><td style='width:30px;height:30px;color:black'></td><td style='background-color:black;width:30px;height:30px;color:white'>37</td><td style='background-color:black;width:30px;height:30px;color:white'>45</td><td style='background-color:black;width:30px;height:30px;color:white'>53</td><td style='width:30px;height:30px;color:black'></td></tr><tr><td style='background-color:black;width:30px;height:30px;color:white'>6</td><td style='background-color:black;width:30px;height:30px;color:white'>14</td><td style='background-color:black;width:30px;height:30px;color:white'>22</td><td style='background-color:black;width:30px;height:30px;color:white'>30</td><td style='background-color:black;width:30px;height:30px;color:white'>38</td><td style='background-color:black;width:30px;height:30px;color:white'>46</td><td style='background-color:black;width:30px;height:30px;color:white'>54</td><td style='background-color:black;width:30px;height:30px;color:white'>62</td></tr><tr><td style='background-color:black;width:30px;height:30px;color:white'>7</td><td style='background-color:black;width:30px;height:30px;color:white'>15</td><td style='background-color:black;width:30px;height:30px;color:white'>23</td><td style='background-color:black;width:30px;height:30px;color:white'>31</td><td style='background-color:black;width:30px;height:30px;color:white'>39</td><td style='background-color:black;width:30px;height:30px;color:white'>47</td><td style='background-color:black;width:30px;height:30px;color:white'>55</td><td style='background-color:black;width:30px;height:30px;color:white'>63</td></tr><tr><td style='background-color:black;width:30px;height:30px;color:white'>8</td><td style='background-color:black;width:30px;height:30px;color:white'>16</td><td style='background-color:black;width:30px;height:30px;color:white'>24</td><td style='background-color:black;width:30px;height:30px;color:white'>32</td><td style='width:30px;height:30px;color:black'></td><td style='background-color:black;width:30px;height:30px;color:white'>48</td><td style='background-color:black;width:30px;height:30px;color:white'>56</td><td style='background-color:black;width:30px;height:30px;color:white'>64</td></tr></table>"
      ],
      "text/plain": [
       "<IPython.core.display.HTML object>"
      ]
     },
     "metadata": {},
     "output_type": "display_data"
    },
    {
     "data": {
      "text/html": [
       "<table><tr><td style='background-color:black;width:30px;height:30px;color:white'>1</td><td style='background-color:black;width:30px;height:30px;color:white'>9</td><td style='background-color:black;width:30px;height:30px;color:white'>17</td><td style='background-color:black;width:30px;height:30px;color:white'>25</td><td style='width:30px;height:30px;color:black'></td><td style='background-color:black;width:30px;height:30px;color:white'>41</td><td style='background-color:black;width:30px;height:30px;color:white'>49</td><td style='background-color:black;width:30px;height:30px;color:white'>57</td></tr><tr><td style='width:30px;height:30px;color:black'></td><td style='background-color:black;width:30px;height:30px;color:white'>10</td><td style='background-color:black;width:30px;height:30px;color:white'>18</td><td style='background-color:black;width:30px;height:30px;color:white'>26</td><td style='background-color:black;width:30px;height:30px;color:white'>34</td><td style='background-color:black;width:30px;height:30px;color:white'>42</td><td style='background-color:black;width:30px;height:30px;color:white'>50</td><td style='background-color:black;width:30px;height:30px;color:white'>58</td></tr><tr><td style='background-color:black;width:30px;height:30px;color:white'>3</td><td style='background-color:black;width:30px;height:30px;color:white'>11</td><td style='background-color:black;width:30px;height:30px;color:white'>19</td><td style='background-color:black;width:30px;height:30px;color:white'>27</td><td style='background-color:black;width:30px;height:30px;color:white'>35</td><td style='background-color:black;width:30px;height:30px;color:white'>43</td><td style='background-color:black;width:30px;height:30px;color:white'>51</td><td style='background-color:black;width:30px;height:30px;color:white'>59</td></tr><tr><td style='background-color:black;width:30px;height:30px;color:white'>4</td><td style='background-color:black;width:30px;height:30px;color:white'>12</td><td style='background-color:black;width:30px;height:30px;color:white'>20</td><td style='background-color:black;width:30px;height:30px;color:white'>28</td><td style='background-color:black;width:30px;height:30px;color:white'>36</td><td style='background-color:black;width:30px;height:30px;color:white'>44</td><td style='background-color:black;width:30px;height:30px;color:white'>52</td><td style='background-color:black;width:30px;height:30px;color:white'>60</td></tr><tr><td style='width:30px;height:30px;color:black'></td><td style='background-color:black;width:30px;height:30px;color:white'>13</td><td style='background-color:black;width:30px;height:30px;color:white'>21</td><td style='background-color:black;width:30px;height:30px;color:white'>29</td><td style='background-color:black;width:30px;height:30px;color:white'>37</td><td style='background-color:black;width:30px;height:30px;color:white'>45</td><td style='background-color:black;width:30px;height:30px;color:white'>53</td><td style='background-color:black;width:30px;height:30px;color:white'>61</td></tr><tr><td style='background-color:black;width:30px;height:30px;color:white'>6</td><td style='background-color:black;width:30px;height:30px;color:white'>14</td><td style='background-color:black;width:30px;height:30px;color:white'>22</td><td style='background-color:black;width:30px;height:30px;color:white'>30</td><td style='width:30px;height:30px;color:black'></td><td style='background-color:black;width:30px;height:30px;color:white'>46</td><td style='background-color:black;width:30px;height:30px;color:white'>54</td><td style='background-color:black;width:30px;height:30px;color:white'>62</td></tr><tr><td style='background-color:black;width:30px;height:30px;color:white'>7</td><td style='background-color:black;width:30px;height:30px;color:white'>15</td><td style='background-color:black;width:30px;height:30px;color:white'>23</td><td style='background-color:black;width:30px;height:30px;color:white'>31</td><td style='background-color:black;width:30px;height:30px;color:white'>39</td><td style='background-color:black;width:30px;height:30px;color:white'>47</td><td style='background-color:black;width:30px;height:30px;color:white'>55</td><td style='background-color:black;width:30px;height:30px;color:white'>63</td></tr><tr><td style='width:30px;height:30px;color:black'></td><td style='background-color:black;width:30px;height:30px;color:white'>16</td><td style='background-color:black;width:30px;height:30px;color:white'>24</td><td style='background-color:black;width:30px;height:30px;color:white'>32</td><td style='background-color:black;width:30px;height:30px;color:white'>40</td><td style='background-color:black;width:30px;height:30px;color:white'>48</td><td style='background-color:black;width:30px;height:30px;color:white'>56</td><td style='background-color:black;width:30px;height:30px;color:white'>64</td></tr></table>"
      ],
      "text/plain": [
       "<IPython.core.display.HTML object>"
      ]
     },
     "metadata": {},
     "output_type": "display_data"
    },
    {
     "data": {
      "text/html": [
       "<table><tr><td style='background-color:black;width:30px;height:30px;color:white'>1</td><td style='background-color:black;width:30px;height:30px;color:white'>9</td><td style='background-color:black;width:30px;height:30px;color:white'>17</td><td style='background-color:black;width:30px;height:30px;color:white'>25</td><td style='background-color:black;width:30px;height:30px;color:white'>33</td><td style='background-color:black;width:30px;height:30px;color:white'>41</td><td style='background-color:black;width:30px;height:30px;color:white'>49</td><td style='background-color:black;width:30px;height:30px;color:white'>57</td></tr><tr><td style='background-color:black;width:30px;height:30px;color:white'>2</td><td style='background-color:black;width:30px;height:30px;color:white'>10</td><td style='background-color:black;width:30px;height:30px;color:white'>18</td><td style='background-color:black;width:30px;height:30px;color:white'>26</td><td style='background-color:black;width:30px;height:30px;color:white'>34</td><td style='background-color:black;width:30px;height:30px;color:white'>42</td><td style='background-color:black;width:30px;height:30px;color:white'>50</td><td style='background-color:black;width:30px;height:30px;color:white'>58</td></tr><tr><td style='background-color:black;width:30px;height:30px;color:white'>3</td><td style='width:30px;height:30px;color:black'></td><td style='background-color:black;width:30px;height:30px;color:white'>19</td><td style='background-color:black;width:30px;height:30px;color:white'>27</td><td style='background-color:black;width:30px;height:30px;color:white'>35</td><td style='background-color:black;width:30px;height:30px;color:white'>43</td><td style='background-color:black;width:30px;height:30px;color:white'>51</td><td style='background-color:black;width:30px;height:30px;color:white'>59</td></tr><tr><td style='background-color:black;width:30px;height:30px;color:white'>4</td><td style='background-color:black;width:30px;height:30px;color:white'>12</td><td style='background-color:black;width:30px;height:30px;color:white'>20</td><td style='background-color:black;width:30px;height:30px;color:white'>28</td><td style='background-color:black;width:30px;height:30px;color:white'>36</td><td style='background-color:black;width:30px;height:30px;color:white'>44</td><td style='background-color:black;width:30px;height:30px;color:white'>52</td><td style='background-color:black;width:30px;height:30px;color:white'>60</td></tr><tr><td style='width:30px;height:30px;color:black'></td><td style='background-color:black;width:30px;height:30px;color:white'>13</td><td style='background-color:black;width:30px;height:30px;color:white'>21</td><td style='background-color:black;width:30px;height:30px;color:white'>29</td><td style='width:30px;height:30px;color:black'></td><td style='width:30px;height:30px;color:black'></td><td style='background-color:black;width:30px;height:30px;color:white'>53</td><td style='background-color:black;width:30px;height:30px;color:white'>61</td></tr><tr><td style='background-color:black;width:30px;height:30px;color:white'>6</td><td style='background-color:black;width:30px;height:30px;color:white'>14</td><td style='background-color:black;width:30px;height:30px;color:white'>22</td><td style='background-color:black;width:30px;height:30px;color:white'>30</td><td style='background-color:black;width:30px;height:30px;color:white'>38</td><td style='background-color:black;width:30px;height:30px;color:white'>46</td><td style='background-color:black;width:30px;height:30px;color:white'>54</td><td style='background-color:black;width:30px;height:30px;color:white'>62</td></tr><tr><td style='background-color:black;width:30px;height:30px;color:white'>7</td><td style='background-color:black;width:30px;height:30px;color:white'>15</td><td style='background-color:black;width:30px;height:30px;color:white'>23</td><td style='background-color:black;width:30px;height:30px;color:white'>31</td><td style='background-color:black;width:30px;height:30px;color:white'>39</td><td style='background-color:black;width:30px;height:30px;color:white'>47</td><td style='background-color:black;width:30px;height:30px;color:white'>55</td><td style='background-color:black;width:30px;height:30px;color:white'>63</td></tr><tr><td style='background-color:black;width:30px;height:30px;color:white'>8</td><td style='width:30px;height:30px;color:black'></td><td style='background-color:black;width:30px;height:30px;color:white'>24</td><td style='background-color:black;width:30px;height:30px;color:white'>32</td><td style='background-color:black;width:30px;height:30px;color:white'>40</td><td style='background-color:black;width:30px;height:30px;color:white'>48</td><td style='background-color:black;width:30px;height:30px;color:white'>56</td><td style='background-color:black;width:30px;height:30px;color:white'>64</td></tr></table>"
      ],
      "text/plain": [
       "<IPython.core.display.HTML object>"
      ]
     },
     "metadata": {},
     "output_type": "display_data"
    },
    {
     "data": {
      "text/html": [
       "<table><tr><td style='background-color:black;width:30px;height:30px;color:white'>1</td><td style='background-color:black;width:30px;height:30px;color:white'>9</td><td style='background-color:black;width:30px;height:30px;color:white'>17</td><td style='background-color:black;width:30px;height:30px;color:white'>25</td><td style='width:30px;height:30px;color:black'></td><td style='background-color:black;width:30px;height:30px;color:white'>41</td><td style='background-color:black;width:30px;height:30px;color:white'>49</td><td style='background-color:black;width:30px;height:30px;color:white'>57</td></tr><tr><td style='background-color:black;width:30px;height:30px;color:white'>2</td><td style='background-color:black;width:30px;height:30px;color:white'>10</td><td style='background-color:black;width:30px;height:30px;color:white'>18</td><td style='background-color:black;width:30px;height:30px;color:white'>26</td><td style='background-color:black;width:30px;height:30px;color:white'>34</td><td style='background-color:black;width:30px;height:30px;color:white'>42</td><td style='background-color:black;width:30px;height:30px;color:white'>50</td><td style='background-color:black;width:30px;height:30px;color:white'>58</td></tr><tr><td style='background-color:black;width:30px;height:30px;color:white'>3</td><td style='background-color:black;width:30px;height:30px;color:white'>11</td><td style='background-color:black;width:30px;height:30px;color:white'>19</td><td style='background-color:black;width:30px;height:30px;color:white'>27</td><td style='width:30px;height:30px;color:black'></td><td style='background-color:black;width:30px;height:30px;color:white'>43</td><td style='background-color:black;width:30px;height:30px;color:white'>51</td><td style='background-color:black;width:30px;height:30px;color:white'>59</td></tr><tr><td style='background-color:black;width:30px;height:30px;color:white'>4</td><td style='background-color:black;width:30px;height:30px;color:white'>12</td><td style='width:30px;height:30px;color:black'></td><td style='background-color:black;width:30px;height:30px;color:white'>28</td><td style='background-color:black;width:30px;height:30px;color:white'>36</td><td style='background-color:black;width:30px;height:30px;color:white'>44</td><td style='background-color:black;width:30px;height:30px;color:white'>52</td><td style='background-color:black;width:30px;height:30px;color:white'>60</td></tr><tr><td style='background-color:black;width:30px;height:30px;color:white'>5</td><td style='background-color:black;width:30px;height:30px;color:white'>13</td><td style='background-color:black;width:30px;height:30px;color:white'>21</td><td style='background-color:black;width:30px;height:30px;color:white'>29</td><td style='background-color:black;width:30px;height:30px;color:white'>37</td><td style='background-color:black;width:30px;height:30px;color:white'>45</td><td style='background-color:black;width:30px;height:30px;color:white'>53</td><td style='background-color:black;width:30px;height:30px;color:white'>61</td></tr><tr><td style='background-color:black;width:30px;height:30px;color:white'>6</td><td style='background-color:black;width:30px;height:30px;color:white'>14</td><td style='background-color:black;width:30px;height:30px;color:white'>22</td><td style='background-color:black;width:30px;height:30px;color:white'>30</td><td style='background-color:black;width:30px;height:30px;color:white'>38</td><td style='background-color:black;width:30px;height:30px;color:white'>46</td><td style='background-color:black;width:30px;height:30px;color:white'>54</td><td style='background-color:black;width:30px;height:30px;color:white'>62</td></tr><tr><td style='background-color:black;width:30px;height:30px;color:white'>7</td><td style='background-color:black;width:30px;height:30px;color:white'>15</td><td style='background-color:black;width:30px;height:30px;color:white'>23</td><td style='background-color:black;width:30px;height:30px;color:white'>31</td><td style='background-color:black;width:30px;height:30px;color:white'>39</td><td style='background-color:black;width:30px;height:30px;color:white'>47</td><td style='background-color:black;width:30px;height:30px;color:white'>55</td><td style='background-color:black;width:30px;height:30px;color:white'>63</td></tr><tr><td style='background-color:black;width:30px;height:30px;color:white'>8</td><td style='background-color:black;width:30px;height:30px;color:white'>16</td><td style='background-color:black;width:30px;height:30px;color:white'>24</td><td style='width:30px;height:30px;color:black'></td><td style='width:30px;height:30px;color:black'></td><td style='background-color:black;width:30px;height:30px;color:white'>48</td><td style='background-color:black;width:30px;height:30px;color:white'>56</td><td style='background-color:black;width:30px;height:30px;color:white'>64</td></tr></table>"
      ],
      "text/plain": [
       "<IPython.core.display.HTML object>"
      ]
     },
     "metadata": {},
     "output_type": "display_data"
    },
    {
     "data": {
      "text/html": [
       "<table><tr><td style='background-color:black;width:30px;height:30px;color:white'>1</td><td style='background-color:black;width:30px;height:30px;color:white'>9</td><td style='background-color:black;width:30px;height:30px;color:white'>17</td><td style='background-color:black;width:30px;height:30px;color:white'>25</td><td style='background-color:black;width:30px;height:30px;color:white'>33</td><td style='background-color:black;width:30px;height:30px;color:white'>41</td><td style='background-color:black;width:30px;height:30px;color:white'>49</td><td style='background-color:black;width:30px;height:30px;color:white'>57</td></tr><tr><td style='background-color:black;width:30px;height:30px;color:white'>2</td><td style='background-color:black;width:30px;height:30px;color:white'>10</td><td style='background-color:black;width:30px;height:30px;color:white'>18</td><td style='background-color:black;width:30px;height:30px;color:white'>26</td><td style='background-color:black;width:30px;height:30px;color:white'>34</td><td style='background-color:black;width:30px;height:30px;color:white'>42</td><td style='background-color:black;width:30px;height:30px;color:white'>50</td><td style='background-color:black;width:30px;height:30px;color:white'>58</td></tr><tr><td style='background-color:black;width:30px;height:30px;color:white'>3</td><td style='background-color:black;width:30px;height:30px;color:white'>11</td><td style='background-color:black;width:30px;height:30px;color:white'>19</td><td style='background-color:black;width:30px;height:30px;color:white'>27</td><td style='background-color:black;width:30px;height:30px;color:white'>35</td><td style='background-color:black;width:30px;height:30px;color:white'>43</td><td style='background-color:black;width:30px;height:30px;color:white'>51</td><td style='background-color:black;width:30px;height:30px;color:white'>59</td></tr><tr><td style='background-color:black;width:30px;height:30px;color:white'>4</td><td style='width:30px;height:30px;color:black'></td><td style='background-color:black;width:30px;height:30px;color:white'>20</td><td style='width:30px;height:30px;color:black'></td><td style='background-color:black;width:30px;height:30px;color:white'>36</td><td style='background-color:black;width:30px;height:30px;color:white'>44</td><td style='width:30px;height:30px;color:black'></td><td style='background-color:black;width:30px;height:30px;color:white'>60</td></tr><tr><td style='background-color:black;width:30px;height:30px;color:white'>5</td><td style='background-color:black;width:30px;height:30px;color:white'>13</td><td style='background-color:black;width:30px;height:30px;color:white'>21</td><td style='background-color:black;width:30px;height:30px;color:white'>29</td><td style='background-color:black;width:30px;height:30px;color:white'>37</td><td style='background-color:black;width:30px;height:30px;color:white'>45</td><td style='background-color:black;width:30px;height:30px;color:white'>53</td><td style='background-color:black;width:30px;height:30px;color:white'>61</td></tr><tr><td style='background-color:black;width:30px;height:30px;color:white'>6</td><td style='background-color:black;width:30px;height:30px;color:white'>14</td><td style='background-color:black;width:30px;height:30px;color:white'>22</td><td style='background-color:black;width:30px;height:30px;color:white'>30</td><td style='background-color:black;width:30px;height:30px;color:white'>38</td><td style='background-color:black;width:30px;height:30px;color:white'>46</td><td style='background-color:black;width:30px;height:30px;color:white'>54</td><td style='background-color:black;width:30px;height:30px;color:white'>62</td></tr><tr><td style='background-color:black;width:30px;height:30px;color:white'>7</td><td style='background-color:black;width:30px;height:30px;color:white'>15</td><td style='background-color:black;width:30px;height:30px;color:white'>23</td><td style='width:30px;height:30px;color:black'></td><td style='background-color:black;width:30px;height:30px;color:white'>39</td><td style='background-color:black;width:30px;height:30px;color:white'>47</td><td style='background-color:black;width:30px;height:30px;color:white'>55</td><td style='background-color:black;width:30px;height:30px;color:white'>63</td></tr><tr><td style='width:30px;height:30px;color:black'></td><td style='background-color:black;width:30px;height:30px;color:white'>16</td><td style='background-color:black;width:30px;height:30px;color:white'>24</td><td style='background-color:black;width:30px;height:30px;color:white'>32</td><td style='background-color:black;width:30px;height:30px;color:white'>40</td><td style='background-color:black;width:30px;height:30px;color:white'>48</td><td style='background-color:black;width:30px;height:30px;color:white'>56</td><td style='background-color:black;width:30px;height:30px;color:white'>64</td></tr></table>"
      ],
      "text/plain": [
       "<IPython.core.display.HTML object>"
      ]
     },
     "metadata": {},
     "output_type": "display_data"
    },
    {
     "data": {
      "text/html": [
       "<table><tr><td style='background-color:black;width:30px;height:30px;color:white'>1</td><td style='background-color:black;width:30px;height:30px;color:white'>9</td><td style='background-color:black;width:30px;height:30px;color:white'>17</td><td style='background-color:black;width:30px;height:30px;color:white'>25</td><td style='width:30px;height:30px;color:black'></td><td style='background-color:black;width:30px;height:30px;color:white'>41</td><td style='background-color:black;width:30px;height:30px;color:white'>49</td><td style='width:30px;height:30px;color:black'></td></tr><tr><td style='background-color:black;width:30px;height:30px;color:white'>2</td><td style='background-color:black;width:30px;height:30px;color:white'>10</td><td style='background-color:black;width:30px;height:30px;color:white'>18</td><td style='width:30px;height:30px;color:black'></td><td style='width:30px;height:30px;color:black'></td><td style='background-color:black;width:30px;height:30px;color:white'>42</td><td style='background-color:black;width:30px;height:30px;color:white'>50</td><td style='background-color:black;width:30px;height:30px;color:white'>58</td></tr><tr><td style='width:30px;height:30px;color:black'></td><td style='background-color:black;width:30px;height:30px;color:white'>11</td><td style='width:30px;height:30px;color:black'></td><td style='background-color:black;width:30px;height:30px;color:white'>27</td><td style='background-color:black;width:30px;height:30px;color:white'>35</td><td style='background-color:black;width:30px;height:30px;color:white'>43</td><td style='background-color:black;width:30px;height:30px;color:white'>51</td><td style='background-color:black;width:30px;height:30px;color:white'>59</td></tr><tr><td style='background-color:black;width:30px;height:30px;color:white'>4</td><td style='background-color:black;width:30px;height:30px;color:white'>12</td><td style='background-color:black;width:30px;height:30px;color:white'>20</td><td style='background-color:black;width:30px;height:30px;color:white'>28</td><td style='background-color:black;width:30px;height:30px;color:white'>36</td><td style='background-color:black;width:30px;height:30px;color:white'>44</td><td style='background-color:black;width:30px;height:30px;color:white'>52</td><td style='background-color:black;width:30px;height:30px;color:white'>60</td></tr><tr><td style='background-color:black;width:30px;height:30px;color:white'>5</td><td style='background-color:black;width:30px;height:30px;color:white'>13</td><td style='background-color:black;width:30px;height:30px;color:white'>21</td><td style='background-color:black;width:30px;height:30px;color:white'>29</td><td style='background-color:black;width:30px;height:30px;color:white'>37</td><td style='background-color:black;width:30px;height:30px;color:white'>45</td><td style='background-color:black;width:30px;height:30px;color:white'>53</td><td style='background-color:black;width:30px;height:30px;color:white'>61</td></tr><tr><td style='background-color:black;width:30px;height:30px;color:white'>6</td><td style='width:30px;height:30px;color:black'></td><td style='background-color:black;width:30px;height:30px;color:white'>22</td><td style='background-color:black;width:30px;height:30px;color:white'>30</td><td style='background-color:black;width:30px;height:30px;color:white'>38</td><td style='background-color:black;width:30px;height:30px;color:white'>46</td><td style='background-color:black;width:30px;height:30px;color:white'>54</td><td style='background-color:black;width:30px;height:30px;color:white'>62</td></tr><tr><td style='background-color:black;width:30px;height:30px;color:white'>7</td><td style='background-color:black;width:30px;height:30px;color:white'>15</td><td style='background-color:black;width:30px;height:30px;color:white'>23</td><td style='background-color:black;width:30px;height:30px;color:white'>31</td><td style='background-color:black;width:30px;height:30px;color:white'>39</td><td style='background-color:black;width:30px;height:30px;color:white'>47</td><td style='background-color:black;width:30px;height:30px;color:white'>55</td><td style='width:30px;height:30px;color:black'></td></tr><tr><td style='background-color:black;width:30px;height:30px;color:white'>8</td><td style='background-color:black;width:30px;height:30px;color:white'>16</td><td style='background-color:black;width:30px;height:30px;color:white'>24</td><td style='background-color:black;width:30px;height:30px;color:white'>32</td><td style='background-color:black;width:30px;height:30px;color:white'>40</td><td style='background-color:black;width:30px;height:30px;color:white'>48</td><td style='width:30px;height:30px;color:black'></td><td style='background-color:black;width:30px;height:30px;color:white'>64</td></tr></table>"
      ],
      "text/plain": [
       "<IPython.core.display.HTML object>"
      ]
     },
     "metadata": {},
     "output_type": "display_data"
    },
    {
     "data": {
      "text/html": [
       "<table><tr><td style='background-color:black;width:30px;height:30px;color:white'>1</td><td style='background-color:black;width:30px;height:30px;color:white'>9</td><td style='background-color:black;width:30px;height:30px;color:white'>17</td><td style='background-color:black;width:30px;height:30px;color:white'>25</td><td style='background-color:black;width:30px;height:30px;color:white'>33</td><td style='background-color:black;width:30px;height:30px;color:white'>41</td><td style='background-color:black;width:30px;height:30px;color:white'>49</td><td style='background-color:black;width:30px;height:30px;color:white'>57</td></tr><tr><td style='background-color:black;width:30px;height:30px;color:white'>2</td><td style='width:30px;height:30px;color:black'></td><td style='background-color:black;width:30px;height:30px;color:white'>18</td><td style='width:30px;height:30px;color:black'></td><td style='background-color:black;width:30px;height:30px;color:white'>34</td><td style='background-color:black;width:30px;height:30px;color:white'>42</td><td style='width:30px;height:30px;color:black'></td><td style='background-color:black;width:30px;height:30px;color:white'>58</td></tr><tr><td style='background-color:black;width:30px;height:30px;color:white'>3</td><td style='background-color:black;width:30px;height:30px;color:white'>11</td><td style='background-color:black;width:30px;height:30px;color:white'>19</td><td style='background-color:black;width:30px;height:30px;color:white'>27</td><td style='background-color:black;width:30px;height:30px;color:white'>35</td><td style='background-color:black;width:30px;height:30px;color:white'>43</td><td style='background-color:black;width:30px;height:30px;color:white'>51</td><td style='background-color:black;width:30px;height:30px;color:white'>59</td></tr><tr><td style='background-color:black;width:30px;height:30px;color:white'>4</td><td style='background-color:black;width:30px;height:30px;color:white'>12</td><td style='background-color:black;width:30px;height:30px;color:white'>20</td><td style='background-color:black;width:30px;height:30px;color:white'>28</td><td style='background-color:black;width:30px;height:30px;color:white'>36</td><td style='background-color:black;width:30px;height:30px;color:white'>44</td><td style='width:30px;height:30px;color:black'></td><td style='background-color:black;width:30px;height:30px;color:white'>60</td></tr><tr><td style='background-color:black;width:30px;height:30px;color:white'>5</td><td style='background-color:black;width:30px;height:30px;color:white'>13</td><td style='background-color:black;width:30px;height:30px;color:white'>21</td><td style='background-color:black;width:30px;height:30px;color:white'>29</td><td style='background-color:black;width:30px;height:30px;color:white'>37</td><td style='background-color:black;width:30px;height:30px;color:white'>45</td><td style='background-color:black;width:30px;height:30px;color:white'>53</td><td style='background-color:black;width:30px;height:30px;color:white'>61</td></tr><tr><td style='background-color:black;width:30px;height:30px;color:white'>6</td><td style='background-color:black;width:30px;height:30px;color:white'>14</td><td style='background-color:black;width:30px;height:30px;color:white'>22</td><td style='background-color:black;width:30px;height:30px;color:white'>30</td><td style='background-color:black;width:30px;height:30px;color:white'>38</td><td style='background-color:black;width:30px;height:30px;color:white'>46</td><td style='background-color:black;width:30px;height:30px;color:white'>54</td><td style='background-color:black;width:30px;height:30px;color:white'>62</td></tr><tr><td style='background-color:black;width:30px;height:30px;color:white'>7</td><td style='background-color:black;width:30px;height:30px;color:white'>15</td><td style='background-color:black;width:30px;height:30px;color:white'>23</td><td style='background-color:black;width:30px;height:30px;color:white'>31</td><td style='background-color:black;width:30px;height:30px;color:white'>39</td><td style='background-color:black;width:30px;height:30px;color:white'>47</td><td style='background-color:black;width:30px;height:30px;color:white'>55</td><td style='background-color:black;width:30px;height:30px;color:white'>63</td></tr><tr><td style='background-color:black;width:30px;height:30px;color:white'>8</td><td style='background-color:black;width:30px;height:30px;color:white'>16</td><td style='background-color:black;width:30px;height:30px;color:white'>24</td><td style='background-color:black;width:30px;height:30px;color:white'>32</td><td style='background-color:black;width:30px;height:30px;color:white'>40</td><td style='background-color:black;width:30px;height:30px;color:white'>48</td><td style='background-color:black;width:30px;height:30px;color:white'>56</td><td style='background-color:black;width:30px;height:30px;color:white'>64</td></tr></table>"
      ],
      "text/plain": [
       "<IPython.core.display.HTML object>"
      ]
     },
     "metadata": {},
     "output_type": "display_data"
    },
    {
     "data": {
      "text/html": [
       "<table><tr><td style='background-color:black;width:30px;height:30px;color:white'>1</td><td style='background-color:black;width:30px;height:30px;color:white'>9</td><td style='background-color:black;width:30px;height:30px;color:white'>17</td><td style='background-color:black;width:30px;height:30px;color:white'>25</td><td style='background-color:black;width:30px;height:30px;color:white'>33</td><td style='background-color:black;width:30px;height:30px;color:white'>41</td><td style='background-color:black;width:30px;height:30px;color:white'>49</td><td style='background-color:black;width:30px;height:30px;color:white'>57</td></tr><tr><td style='background-color:black;width:30px;height:30px;color:white'>2</td><td style='background-color:black;width:30px;height:30px;color:white'>10</td><td style='background-color:black;width:30px;height:30px;color:white'>18</td><td style='background-color:black;width:30px;height:30px;color:white'>26</td><td style='background-color:black;width:30px;height:30px;color:white'>34</td><td style='background-color:black;width:30px;height:30px;color:white'>42</td><td style='background-color:black;width:30px;height:30px;color:white'>50</td><td style='background-color:black;width:30px;height:30px;color:white'>58</td></tr><tr><td style='background-color:black;width:30px;height:30px;color:white'>3</td><td style='background-color:black;width:30px;height:30px;color:white'>11</td><td style='background-color:black;width:30px;height:30px;color:white'>19</td><td style='background-color:black;width:30px;height:30px;color:white'>27</td><td style='background-color:black;width:30px;height:30px;color:white'>35</td><td style='background-color:black;width:30px;height:30px;color:white'>43</td><td style='background-color:black;width:30px;height:30px;color:white'>51</td><td style='background-color:black;width:30px;height:30px;color:white'>59</td></tr><tr><td style='background-color:black;width:30px;height:30px;color:white'>4</td><td style='background-color:black;width:30px;height:30px;color:white'>12</td><td style='background-color:black;width:30px;height:30px;color:white'>20</td><td style='background-color:black;width:30px;height:30px;color:white'>28</td><td style='background-color:black;width:30px;height:30px;color:white'>36</td><td style='background-color:black;width:30px;height:30px;color:white'>44</td><td style='background-color:black;width:30px;height:30px;color:white'>52</td><td style='background-color:black;width:30px;height:30px;color:white'>60</td></tr><tr><td style='background-color:black;width:30px;height:30px;color:white'>5</td><td style='background-color:black;width:30px;height:30px;color:white'>13</td><td style='background-color:black;width:30px;height:30px;color:white'>21</td><td style='background-color:black;width:30px;height:30px;color:white'>29</td><td style='background-color:black;width:30px;height:30px;color:white'>37</td><td style='background-color:black;width:30px;height:30px;color:white'>45</td><td style='background-color:black;width:30px;height:30px;color:white'>53</td><td style='background-color:black;width:30px;height:30px;color:white'>61</td></tr><tr><td style='background-color:black;width:30px;height:30px;color:white'>6</td><td style='background-color:black;width:30px;height:30px;color:white'>14</td><td style='background-color:black;width:30px;height:30px;color:white'>22</td><td style='background-color:black;width:30px;height:30px;color:white'>30</td><td style='background-color:black;width:30px;height:30px;color:white'>38</td><td style='background-color:black;width:30px;height:30px;color:white'>46</td><td style='background-color:black;width:30px;height:30px;color:white'>54</td><td style='background-color:black;width:30px;height:30px;color:white'>62</td></tr><tr><td style='background-color:black;width:30px;height:30px;color:white'>7</td><td style='background-color:black;width:30px;height:30px;color:white'>15</td><td style='background-color:black;width:30px;height:30px;color:white'>23</td><td style='background-color:black;width:30px;height:30px;color:white'>31</td><td style='background-color:black;width:30px;height:30px;color:white'>39</td><td style='background-color:black;width:30px;height:30px;color:white'>47</td><td style='background-color:black;width:30px;height:30px;color:white'>55</td><td style='background-color:black;width:30px;height:30px;color:white'>63</td></tr><tr><td style='background-color:black;width:30px;height:30px;color:white'>8</td><td style='background-color:black;width:30px;height:30px;color:white'>16</td><td style='background-color:black;width:30px;height:30px;color:white'>24</td><td style='background-color:black;width:30px;height:30px;color:white'>32</td><td style='background-color:black;width:30px;height:30px;color:white'>40</td><td style='background-color:black;width:30px;height:30px;color:white'>48</td><td style='background-color:black;width:30px;height:30px;color:white'>56</td><td style='background-color:black;width:30px;height:30px;color:white'>64</td></tr></table>"
      ],
      "text/plain": [
       "<IPython.core.display.HTML object>"
      ]
     },
     "metadata": {},
     "output_type": "display_data"
    },
    {
     "data": {
      "text/html": [
       "<table><tr><td style='background-color:black;width:30px;height:30px;color:white'>1</td><td style='background-color:black;width:30px;height:30px;color:white'>9</td><td style='background-color:black;width:30px;height:30px;color:white'>17</td><td style='background-color:black;width:30px;height:30px;color:white'>25</td><td style='background-color:black;width:30px;height:30px;color:white'>33</td><td style='background-color:black;width:30px;height:30px;color:white'>41</td><td style='background-color:black;width:30px;height:30px;color:white'>49</td><td style='background-color:black;width:30px;height:30px;color:white'>57</td></tr><tr><td style='background-color:black;width:30px;height:30px;color:white'>2</td><td style='background-color:black;width:30px;height:30px;color:white'>10</td><td style='background-color:black;width:30px;height:30px;color:white'>18</td><td style='background-color:black;width:30px;height:30px;color:white'>26</td><td style='background-color:black;width:30px;height:30px;color:white'>34</td><td style='background-color:black;width:30px;height:30px;color:white'>42</td><td style='width:30px;height:30px;color:black'></td><td style='background-color:black;width:30px;height:30px;color:white'>58</td></tr><tr><td style='background-color:black;width:30px;height:30px;color:white'>3</td><td style='background-color:black;width:30px;height:30px;color:white'>11</td><td style='background-color:black;width:30px;height:30px;color:white'>19</td><td style='background-color:black;width:30px;height:30px;color:white'>27</td><td style='background-color:black;width:30px;height:30px;color:white'>35</td><td style='background-color:black;width:30px;height:30px;color:white'>43</td><td style='background-color:black;width:30px;height:30px;color:white'>51</td><td style='background-color:black;width:30px;height:30px;color:white'>59</td></tr><tr><td style='background-color:black;width:30px;height:30px;color:white'>4</td><td style='background-color:black;width:30px;height:30px;color:white'>12</td><td style='background-color:black;width:30px;height:30px;color:white'>20</td><td style='background-color:black;width:30px;height:30px;color:white'>28</td><td style='background-color:black;width:30px;height:30px;color:white'>36</td><td style='background-color:black;width:30px;height:30px;color:white'>44</td><td style='background-color:black;width:30px;height:30px;color:white'>52</td><td style='background-color:black;width:30px;height:30px;color:white'>60</td></tr><tr><td style='background-color:black;width:30px;height:30px;color:white'>5</td><td style='background-color:black;width:30px;height:30px;color:white'>13</td><td style='background-color:black;width:30px;height:30px;color:white'>21</td><td style='width:30px;height:30px;color:black'></td><td style='width:30px;height:30px;color:black'></td><td style='background-color:black;width:30px;height:30px;color:white'>45</td><td style='background-color:black;width:30px;height:30px;color:white'>53</td><td style='background-color:black;width:30px;height:30px;color:white'>61</td></tr><tr><td style='background-color:black;width:30px;height:30px;color:white'>6</td><td style='background-color:black;width:30px;height:30px;color:white'>14</td><td style='background-color:black;width:30px;height:30px;color:white'>22</td><td style='background-color:black;width:30px;height:30px;color:white'>30</td><td style='background-color:black;width:30px;height:30px;color:white'>38</td><td style='background-color:black;width:30px;height:30px;color:white'>46</td><td style='background-color:black;width:30px;height:30px;color:white'>54</td><td style='width:30px;height:30px;color:black'></td></tr><tr><td style='background-color:black;width:30px;height:30px;color:white'>7</td><td style='background-color:black;width:30px;height:30px;color:white'>15</td><td style='background-color:black;width:30px;height:30px;color:white'>23</td><td style='background-color:black;width:30px;height:30px;color:white'>31</td><td style='background-color:black;width:30px;height:30px;color:white'>39</td><td style='background-color:black;width:30px;height:30px;color:white'>47</td><td style='width:30px;height:30px;color:black'></td><td style='background-color:black;width:30px;height:30px;color:white'>63</td></tr><tr><td style='background-color:black;width:30px;height:30px;color:white'>8</td><td style='background-color:black;width:30px;height:30px;color:white'>16</td><td style='background-color:black;width:30px;height:30px;color:white'>24</td><td style='background-color:black;width:30px;height:30px;color:white'>32</td><td style='background-color:black;width:30px;height:30px;color:white'>40</td><td style='background-color:black;width:30px;height:30px;color:white'>48</td><td style='background-color:black;width:30px;height:30px;color:white'>56</td><td style='background-color:black;width:30px;height:30px;color:white'>64</td></tr></table>"
      ],
      "text/plain": [
       "<IPython.core.display.HTML object>"
      ]
     },
     "metadata": {},
     "output_type": "display_data"
    },
    {
     "data": {
      "text/html": [
       "<table><tr><td style='background-color:black;width:30px;height:30px;color:white'>1</td><td style='background-color:black;width:30px;height:30px;color:white'>9</td><td style='background-color:black;width:30px;height:30px;color:white'>17</td><td style='width:30px;height:30px;color:black'></td><td style='background-color:black;width:30px;height:30px;color:white'>33</td><td style='background-color:black;width:30px;height:30px;color:white'>41</td><td style='background-color:black;width:30px;height:30px;color:white'>49</td><td style='background-color:black;width:30px;height:30px;color:white'>57</td></tr><tr><td style='background-color:black;width:30px;height:30px;color:white'>2</td><td style='background-color:black;width:30px;height:30px;color:white'>10</td><td style='background-color:black;width:30px;height:30px;color:white'>18</td><td style='background-color:black;width:30px;height:30px;color:white'>26</td><td style='background-color:black;width:30px;height:30px;color:white'>34</td><td style='background-color:black;width:30px;height:30px;color:white'>42</td><td style='background-color:black;width:30px;height:30px;color:white'>50</td><td style='background-color:black;width:30px;height:30px;color:white'>58</td></tr><tr><td style='background-color:black;width:30px;height:30px;color:white'>3</td><td style='background-color:black;width:30px;height:30px;color:white'>11</td><td style='width:30px;height:30px;color:black'></td><td style='background-color:black;width:30px;height:30px;color:white'>27</td><td style='background-color:black;width:30px;height:30px;color:white'>35</td><td style='background-color:black;width:30px;height:30px;color:white'>43</td><td style='background-color:black;width:30px;height:30px;color:white'>51</td><td style='background-color:black;width:30px;height:30px;color:white'>59</td></tr><tr><td style='background-color:black;width:30px;height:30px;color:white'>4</td><td style='background-color:black;width:30px;height:30px;color:white'>12</td><td style='background-color:black;width:30px;height:30px;color:white'>20</td><td style='background-color:black;width:30px;height:30px;color:white'>28</td><td style='background-color:black;width:30px;height:30px;color:white'>36</td><td style='background-color:black;width:30px;height:30px;color:white'>44</td><td style='background-color:black;width:30px;height:30px;color:white'>52</td><td style='background-color:black;width:30px;height:30px;color:white'>60</td></tr><tr><td style='background-color:black;width:30px;height:30px;color:white'>5</td><td style='background-color:black;width:30px;height:30px;color:white'>13</td><td style='background-color:black;width:30px;height:30px;color:white'>21</td><td style='background-color:black;width:30px;height:30px;color:white'>29</td><td style='background-color:black;width:30px;height:30px;color:white'>37</td><td style='background-color:black;width:30px;height:30px;color:white'>45</td><td style='background-color:black;width:30px;height:30px;color:white'>53</td><td style='background-color:black;width:30px;height:30px;color:white'>61</td></tr><tr><td style='background-color:black;width:30px;height:30px;color:white'>6</td><td style='background-color:black;width:30px;height:30px;color:white'>14</td><td style='background-color:black;width:30px;height:30px;color:white'>22</td><td style='background-color:black;width:30px;height:30px;color:white'>30</td><td style='background-color:black;width:30px;height:30px;color:white'>38</td><td style='background-color:black;width:30px;height:30px;color:white'>46</td><td style='width:30px;height:30px;color:black'></td><td style='background-color:black;width:30px;height:30px;color:white'>62</td></tr><tr><td style='background-color:black;width:30px;height:30px;color:white'>7</td><td style='background-color:black;width:30px;height:30px;color:white'>15</td><td style='background-color:black;width:30px;height:30px;color:white'>23</td><td style='background-color:black;width:30px;height:30px;color:white'>31</td><td style='background-color:black;width:30px;height:30px;color:white'>39</td><td style='background-color:black;width:30px;height:30px;color:white'>47</td><td style='background-color:black;width:30px;height:30px;color:white'>55</td><td style='background-color:black;width:30px;height:30px;color:white'>63</td></tr><tr><td style='background-color:black;width:30px;height:30px;color:white'>8</td><td style='background-color:black;width:30px;height:30px;color:white'>16</td><td style='background-color:black;width:30px;height:30px;color:white'>24</td><td style='background-color:black;width:30px;height:30px;color:white'>32</td><td style='background-color:black;width:30px;height:30px;color:white'>40</td><td style='background-color:black;width:30px;height:30px;color:white'>48</td><td style='background-color:black;width:30px;height:30px;color:white'>56</td><td style='background-color:black;width:30px;height:30px;color:white'>64</td></tr></table>"
      ],
      "text/plain": [
       "<IPython.core.display.HTML object>"
      ]
     },
     "metadata": {},
     "output_type": "display_data"
    }
   ],
   "source": [
    "for idx,ele in enumerate(temp.values()):\n",
    "    if idx % 4 == 0 or idx == 0:\n",
    "        show_active_boxes_of_matrix(ele)"
   ]
  },
  {
   "cell_type": "markdown",
   "id": "c2c98029",
   "metadata": {},
   "source": [
    "# - - - END - - -"
   ]
  },
  {
   "cell_type": "code",
   "execution_count": null,
   "id": "7306607c",
   "metadata": {},
   "outputs": [],
   "source": []
  }
 ],
 "metadata": {
  "kernelspec": {
   "display_name": "Python 3 (ipykernel)",
   "language": "python",
   "name": "python3"
  },
  "language_info": {
   "codemirror_mode": {
    "name": "ipython",
    "version": 3
   },
   "file_extension": ".py",
   "mimetype": "text/x-python",
   "name": "python",
   "nbconvert_exporter": "python",
   "pygments_lexer": "ipython3",
   "version": "3.10.6"
  }
 },
 "nbformat": 4,
 "nbformat_minor": 5
}
