{
 "cells": [
  {
   "cell_type": "markdown",
   "id": "8efdfb82",
   "metadata": {},
   "source": [
    "# Integral Analysis of PHOTON<sub>256</sub> permutation function"
   ]
  },
  {
   "cell_type": "markdown",
   "id": "a550f536",
   "metadata": {},
   "source": [
    "# Importing necessary libraries"
   ]
  },
  {
   "cell_type": "code",
   "execution_count": 1,
   "id": "9fef89ef",
   "metadata": {},
   "outputs": [
    {
     "name": "stdout",
     "output_type": "stream",
     "text": [
      "Galois Field:\n",
      "  name: GF(2^4)\n",
      "  characteristic: 2\n",
      "  degree: 4\n",
      "  order: 16\n",
      "  irreducible_poly: x^4 + x + 1\n",
      "  is_primitive_poly: True\n",
      "  primitive_element: x\n"
     ]
    }
   ],
   "source": [
    "import random\n",
    "import copy\n",
    "from collections import deque\n",
    "from IPython.display import display, Math , HTML\n",
    "import galois\n",
    "GF = galois.GF(2**4)\n",
    "print(GF.properties)"
   ]
  },
  {
   "cell_type": "markdown",
   "id": "f5a5ea88",
   "metadata": {},
   "source": [
    "# Utility functions"
   ]
  },
  {
   "cell_type": "code",
   "execution_count": 2,
   "id": "7bf39c54",
   "metadata": {},
   "outputs": [],
   "source": [
    "#------------------------------------------- Utility Functions -----------------------------------------------\n",
    "def xor_all_ele(lst):\n",
    "    a = 0\n",
    "    for i in lst:\n",
    "        a ^= i\n",
    "    return a"
   ]
  },
  {
   "cell_type": "markdown",
   "id": "1848595d",
   "metadata": {},
   "source": [
    "# Matrix Set"
   ]
  },
  {
   "cell_type": "code",
   "execution_count": 3,
   "id": "01bc77bc",
   "metadata": {},
   "outputs": [],
   "source": [
    "class PHOTON_Matrix_Set_8x8:\n",
    "    def __init__(self):\n",
    "        a = range(16)\n",
    "        self.set = []\n",
    "        self.n = 8\n",
    "        self._constant_matrix = [ [random.choice(a) for j in range(self.n)] for i in range(self.n)]\n",
    "        for i in a:\n",
    "            temp = copy.deepcopy(self._constant_matrix)\n",
    "            temp[0][0] = i\n",
    "            self.set.append(temp)\n",
    "    def isAll(self):\n",
    "        temp = [[set() for j in range(self.n)] for i in range(self.n)]\n",
    "        for m in self.set:\n",
    "            for row in range(self.n):\n",
    "                for col in range(self.n):\n",
    "                    temp[row][col].add(m[row][col])\n",
    "        temp2 = [[0 for j in range(self.n)] for i in range(self.n)]\n",
    "        for row in range(self.n):\n",
    "            for col in range(self.n):\n",
    "                if len(temp[row][col])== 16:\n",
    "                    temp2[row][col] =  True\n",
    "                else:\n",
    "                    temp2[row][col] =  False\n",
    "        return temp2\n",
    "    def isConstant(self):\n",
    "        temp = [[set() for j in range(self.n)] for i in range(self.n)]\n",
    "        for m in self.set:\n",
    "            for row in range(self.n):\n",
    "                for col in range(self.n):\n",
    "                    temp[row][col].add(m[row][col])\n",
    "        temp2 = [[0 for j in range(self.n)] for i in range(self.n)]\n",
    "        for row in range(self.n):\n",
    "            for col in range(self.n):\n",
    "                if len(temp[row][col])== 1:\n",
    "                    temp2[row][col] =  True\n",
    "                else:\n",
    "                    temp2[row][col] =  False\n",
    "        return temp2\n",
    "    def isBalanced(self):\n",
    "        temp = [[0 for j in range(self.n)] for i in range(self.n)]\n",
    "        for m in self.set:\n",
    "            for row in range(self.n):\n",
    "                for col in range(self.n):\n",
    "                    temp[row][col] ^= m[row][col]\n",
    "        temp2 = [[0 for j in range(self.n)] for i in range(self.n)]\n",
    "        for row in range(self.n):\n",
    "            for col in range(self.n):\n",
    "                if temp[row][col]== 0:\n",
    "                    temp2[row][col] =  True\n",
    "                else:\n",
    "                    temp2[row][col] =  False\n",
    "        return temp2\n",
    "    def is_a_b_c(self):\n",
    "        temp = [[set() for j in range(self.n)] for i in range(self.n)]\n",
    "        for m in self.set:\n",
    "            for row in range(self.n):\n",
    "                for col in range(self.n):\n",
    "                    temp[row][col].add(m[row][col])\n",
    "        temp2 = [[\"*\" for j in range(self.n)] for i in range(self.n)]\n",
    "        for row in range(self.n):\n",
    "            for col in range(self.n):\n",
    "                l = len(temp[row][col])\n",
    "                if l == 16:\n",
    "                    temp2[row][col] =  'A'\n",
    "                elif l == 1:\n",
    "                    temp2[row][col] =  'C'\n",
    "                elif xor_all_ele(temp[row][col]) == 0:\n",
    "                    temp2[row][col] =  'B'\n",
    "        return temp2\n",
    "    def copy(self):\n",
    "        temp = PHOTON_Matrix_Set_8x8()\n",
    "        temp.set = copy.deepcopy(self.set)\n",
    "        temp._constant_matrix = copy.deepcopy(self._constant_matrix)\n",
    "        return temp\n",
    "    def property_summary(self):\n",
    "        print(\"Property\")\n",
    "        print_matrix(self.is_a_b_c())\n",
    "    def get_property_summary_matrix_str(self):\n",
    "        array = self.is_a_b_c()\n",
    "        matrix = ''\n",
    "        for row in array:\n",
    "            try:\n",
    "                matrix += \" & \".join(map(str,row))\n",
    "            except TypeError:\n",
    "                pass\n",
    "            matrix = matrix + r' \\\\ '\n",
    "        matrix = r' \\begin{bmatrix} '+matrix+r' \\end{bmatrix} '\n",
    "        return matrix\n",
    "    def get_latex_table_code(self):\n",
    "        array = self.is_a_b_c()\n",
    "        matrix = ''\n",
    "        for row in array:\n",
    "            try:\n",
    "                matrix += \" & \".join([ \" {\"+i+\"} \" for i in map(str,row)])\n",
    "            except TypeError:\n",
    "                matrix += f'{row}&'\n",
    "            matrix = matrix[:-1] + r' \\\\ \\hline '\n",
    "        matrix = r'\\begin{table}[] \\begin{tabular}{|c|c|c|c|c|c|c|c|} \\hline '+matrix+r' \\end{tabular} \\end{table} '\n",
    "        return matrix"
   ]
  },
  {
   "cell_type": "markdown",
   "id": "e6656a2f",
   "metadata": {},
   "source": [
    "# PHOTON<sub>256</sub> - Permutation"
   ]
  },
  {
   "cell_type": "code",
   "execution_count": 4,
   "id": "bfc77afd",
   "metadata": {},
   "outputs": [],
   "source": [
    "# ---------------------------------------- PHOTON-256-PERMUTATION ---------------------------------------------\n",
    "## SBOX LIST\n",
    "sbox_list = [0xc,5,6,0xb,9,0,0xa,0xd,3,0xe,0xf,8,4,7,1,2]\n",
    "def list_64_to_8x8_matrix(s) -> list[list[int]]:\n",
    "    assert len(s) == 64\n",
    "    m = [[s[i+(j*8)] for j in range(8)] for i in range(8)]\n",
    "    return m\n",
    "def matrix_8x8_to_hex_list(m : list[list[int]]):\n",
    "    lst = []\n",
    "    for col in range(8):\n",
    "        for row in range(8):\n",
    "            lst.append(m[row][col])\n",
    "    return lst\n",
    "## ----------------------------------------------- Round Functions -------------------------------------------\n",
    "## 1.ADD-CONSTANT\n",
    "def add_constant(X : list,k):\n",
    "    new_X = copy.deepcopy(X)\n",
    "    RC = [1, 3, 7, 14, 13, 11, 6, 12, 9, 2, 5, 10]\n",
    "    IC = [0, 1, 3, 7, 15, 14, 12, 8]\n",
    "    for i in range(8):\n",
    "        new_X[i][0] = new_X[i][0] ^ RC[k] ^ IC[i]\n",
    "    return new_X\n",
    "## 2.SUB-CELL\n",
    "def sub_cell(X):\n",
    "    new_X = copy.deepcopy(X)\n",
    "    for i in range(8):\n",
    "        for j in range(8):\n",
    "            new_X[i][j] = sbox_list[new_X[i][j]]\n",
    "    return new_X\n",
    "## 3.SHIFT-ROW\n",
    "def shift_row(X):\n",
    "    new_X = copy.deepcopy(X)\n",
    "    for i in range(8):\n",
    "        temp = deque(new_X[i])\n",
    "        temp.rotate(-1*i)\n",
    "        new_X[i] = list(temp)\n",
    "    return new_X\n",
    "## 4.MIX-COLUMN-SERIAL\n",
    "def serial(lst):\n",
    "    M = []\n",
    "    for i in range(7):\n",
    "        a = [0 for j in range(8)]\n",
    "        a[i+1] = 1\n",
    "        M.append(a)\n",
    "    M.append(copy.deepcopy(lst))\n",
    "    return M\n",
    "def matrix_mul(m1,m2):\n",
    "    new_m = [[0 for j in range(8)] for i in range(8)]\n",
    "    for i in range(8):\n",
    "        for j in range(8):\n",
    "            s = 0\n",
    "            for temp in range(8):\n",
    "                s ^= int(GF(m1[i][temp]) * GF(m2[temp][j]))\n",
    "            new_m[i][j] = s\n",
    "    return new_m\n",
    "def mix_column_serial(X):\n",
    "    new_X = copy.deepcopy(X)\n",
    "    M = serial([2, 4, 2, 11, 2, 8, 5, 6])\n",
    "    M8 = matrix_mul(M,M)\n",
    "    for i in range(6):\n",
    "        M8 = matrix_mul(M8,M)\n",
    "    new_X = matrix_mul(M8,new_X)\n",
    "    return new_X\n",
    "## PHOTON 256 PERMUTATION FUNCTION\n",
    "def PHOTON_256_single_round(X,i):\n",
    "    abcd = []\n",
    "    X = copy.deepcopy(X)\n",
    "    #1\n",
    "    X = add_constant(X,i)\n",
    "    abcd.append(X)\n",
    "    X = copy.deepcopy(X)\n",
    "    #2\n",
    "    X = sub_cell(X)\n",
    "    abcd.append(X)\n",
    "    X = copy.deepcopy(X)\n",
    "    #3\n",
    "    X = shift_row(X)\n",
    "    abcd.append(X)\n",
    "    X = copy.deepcopy(X)\n",
    "    #4\n",
    "    X = mix_column_serial(X)\n",
    "    abcd.append(X)\n",
    "    X = copy.deepcopy(X)\n",
    "    \n",
    "    return X\n",
    "def perform_PHOTON_on_whole_set(S:PHOTON_Matrix_Set_8x8,r=1):\n",
    "    S = S.copy()\n",
    "    for idx,m in enumerate(S.set):\n",
    "        S.set[idx] = PHOTON_256_single_round(m,r)\n",
    "    return S\n",
    "#------------------------------ Function to perform operations on each function ------------------------------\n",
    "# 1. Add-Constant\n",
    "# 2. Sub-Cell\n",
    "# 3. Shift-Row\n",
    "# 4. Mix-Column-Serial\n",
    "def add_constant_on_set(A,k) -> PHOTON_Matrix_Set_8x8:\n",
    "    A = A.copy()\n",
    "    for idx,m in enumerate(A.set):\n",
    "        A.set[idx] = add_constant(m,k)\n",
    "    return A\n",
    "def sub_cell_on_set(A) -> PHOTON_Matrix_Set_8x8:\n",
    "    A = A.copy()\n",
    "    for idx,m in enumerate(A.set):\n",
    "        A.set[idx] = sub_cell(m)\n",
    "    return A\n",
    "def shift_row_on_set(A) -> PHOTON_Matrix_Set_8x8:\n",
    "    A = A.copy()\n",
    "    for idx,m in enumerate(A.set):\n",
    "        A.set[idx] = shift_row(m)\n",
    "    return A\n",
    "def mix_column_serial_on_set(A) -> PHOTON_Matrix_Set_8x8:\n",
    "    A = A.copy()\n",
    "    for idx,m in enumerate(A.set):\n",
    "        A.set[idx] = mix_column_serial(m)\n",
    "    return A"
   ]
  },
  {
   "cell_type": "markdown",
   "id": "b60b47e4",
   "metadata": {},
   "source": [
    "# Main Visualization function"
   ]
  },
  {
   "cell_type": "code",
   "execution_count": 5,
   "id": "1c4f0483",
   "metadata": {},
   "outputs": [],
   "source": [
    "def visualize_one_round_PHOTON256_properties(A:PHOTON_Matrix_Set_8x8,k=1):\n",
    "    print(f\"- - - Round {k} - - -\")\n",
    "    print(\"After Add-constant:\")\n",
    "    A = add_constant_on_set(A,k)\n",
    "    display(Math(A.get_property_summary_matrix_str()))\n",
    "    print(\"After Sub-Cell:\")\n",
    "    A = sub_cell_on_set(A)\n",
    "    display(Math(A.get_property_summary_matrix_str()))\n",
    "    print(\"After Shift-Row:\")\n",
    "    A = shift_row_on_set(A)\n",
    "    display(Math(A.get_property_summary_matrix_str()))\n",
    "    print(\"After Mix-Column-serial:\")\n",
    "    A = mix_column_serial_on_set(A)\n",
    "    display(Math(A.get_property_summary_matrix_str()))\n",
    "    return A"
   ]
  },
  {
   "cell_type": "markdown",
   "id": "5407313b",
   "metadata": {},
   "source": [
    "# Test"
   ]
  },
  {
   "cell_type": "code",
   "execution_count": 6,
   "id": "eae527c9",
   "metadata": {},
   "outputs": [],
   "source": [
    "a = PHOTON_Matrix_Set_8x8()"
   ]
  },
  {
   "cell_type": "code",
   "execution_count": 8,
   "id": "17c77c9f",
   "metadata": {},
   "outputs": [
    {
     "name": "stdout",
     "output_type": "stream",
     "text": [
      "- - - Round 1 - - -\n",
      "After Add-constant:\n"
     ]
    },
    {
     "data": {
      "text/latex": [
       "$\\displaystyle  \\begin{bmatrix} A & C & C & C & C & C & C & C \\\\ C & C & C & C & C & C & C & C \\\\ C & C & C & C & C & C & C & C \\\\ C & C & C & C & C & C & C & C \\\\ C & C & C & C & C & C & C & C \\\\ C & C & C & C & C & C & C & C \\\\ C & C & C & C & C & C & C & C \\\\ C & C & C & C & C & C & C & C \\\\  \\end{bmatrix} $"
      ],
      "text/plain": [
       "<IPython.core.display.Math object>"
      ]
     },
     "metadata": {},
     "output_type": "display_data"
    },
    {
     "name": "stdout",
     "output_type": "stream",
     "text": [
      "After Sub-Cell:\n"
     ]
    },
    {
     "data": {
      "text/latex": [
       "$\\displaystyle  \\begin{bmatrix} A & C & C & C & C & C & C & C \\\\ C & C & C & C & C & C & C & C \\\\ C & C & C & C & C & C & C & C \\\\ C & C & C & C & C & C & C & C \\\\ C & C & C & C & C & C & C & C \\\\ C & C & C & C & C & C & C & C \\\\ C & C & C & C & C & C & C & C \\\\ C & C & C & C & C & C & C & C \\\\  \\end{bmatrix} $"
      ],
      "text/plain": [
       "<IPython.core.display.Math object>"
      ]
     },
     "metadata": {},
     "output_type": "display_data"
    },
    {
     "name": "stdout",
     "output_type": "stream",
     "text": [
      "After Shift-Row:\n"
     ]
    },
    {
     "data": {
      "text/latex": [
       "$\\displaystyle  \\begin{bmatrix} A & C & C & C & C & C & C & C \\\\ C & C & C & C & C & C & C & C \\\\ C & C & C & C & C & C & C & C \\\\ C & C & C & C & C & C & C & C \\\\ C & C & C & C & C & C & C & C \\\\ C & C & C & C & C & C & C & C \\\\ C & C & C & C & C & C & C & C \\\\ C & C & C & C & C & C & C & C \\\\  \\end{bmatrix} $"
      ],
      "text/plain": [
       "<IPython.core.display.Math object>"
      ]
     },
     "metadata": {},
     "output_type": "display_data"
    },
    {
     "name": "stdout",
     "output_type": "stream",
     "text": [
      "After Mix-Column-serial:\n"
     ]
    },
    {
     "data": {
      "text/latex": [
       "$\\displaystyle  \\begin{bmatrix} A & C & C & C & C & C & C & C \\\\ A & C & C & C & C & C & C & C \\\\ A & C & C & C & C & C & C & C \\\\ A & C & C & C & C & C & C & C \\\\ A & C & C & C & C & C & C & C \\\\ A & C & C & C & C & C & C & C \\\\ A & C & C & C & C & C & C & C \\\\ A & C & C & C & C & C & C & C \\\\  \\end{bmatrix} $"
      ],
      "text/plain": [
       "<IPython.core.display.Math object>"
      ]
     },
     "metadata": {},
     "output_type": "display_data"
    }
   ],
   "source": [
    "a = visualize_one_round_PHOTON256_properties(a,1)"
   ]
  },
  {
   "cell_type": "code",
   "execution_count": 9,
   "id": "da5470f8",
   "metadata": {},
   "outputs": [
    {
     "name": "stdout",
     "output_type": "stream",
     "text": [
      "- - - Round 2 - - -\n",
      "After Add-constant:\n"
     ]
    },
    {
     "data": {
      "text/latex": [
       "$\\displaystyle  \\begin{bmatrix} A & C & C & C & C & C & C & C \\\\ A & C & C & C & C & C & C & C \\\\ A & C & C & C & C & C & C & C \\\\ A & C & C & C & C & C & C & C \\\\ A & C & C & C & C & C & C & C \\\\ A & C & C & C & C & C & C & C \\\\ A & C & C & C & C & C & C & C \\\\ A & C & C & C & C & C & C & C \\\\  \\end{bmatrix} $"
      ],
      "text/plain": [
       "<IPython.core.display.Math object>"
      ]
     },
     "metadata": {},
     "output_type": "display_data"
    },
    {
     "name": "stdout",
     "output_type": "stream",
     "text": [
      "After Sub-Cell:\n"
     ]
    },
    {
     "data": {
      "text/latex": [
       "$\\displaystyle  \\begin{bmatrix} A & C & C & C & C & C & C & C \\\\ A & C & C & C & C & C & C & C \\\\ A & C & C & C & C & C & C & C \\\\ A & C & C & C & C & C & C & C \\\\ A & C & C & C & C & C & C & C \\\\ A & C & C & C & C & C & C & C \\\\ A & C & C & C & C & C & C & C \\\\ A & C & C & C & C & C & C & C \\\\  \\end{bmatrix} $"
      ],
      "text/plain": [
       "<IPython.core.display.Math object>"
      ]
     },
     "metadata": {},
     "output_type": "display_data"
    },
    {
     "name": "stdout",
     "output_type": "stream",
     "text": [
      "After Shift-Row:\n"
     ]
    },
    {
     "data": {
      "text/latex": [
       "$\\displaystyle  \\begin{bmatrix} A & C & C & C & C & C & C & C \\\\ C & C & C & C & C & C & C & A \\\\ C & C & C & C & C & C & A & C \\\\ C & C & C & C & C & A & C & C \\\\ C & C & C & C & A & C & C & C \\\\ C & C & C & A & C & C & C & C \\\\ C & C & A & C & C & C & C & C \\\\ C & A & C & C & C & C & C & C \\\\  \\end{bmatrix} $"
      ],
      "text/plain": [
       "<IPython.core.display.Math object>"
      ]
     },
     "metadata": {},
     "output_type": "display_data"
    },
    {
     "name": "stdout",
     "output_type": "stream",
     "text": [
      "After Mix-Column-serial:\n"
     ]
    },
    {
     "data": {
      "text/latex": [
       "$\\displaystyle  \\begin{bmatrix} A & A & A & A & A & A & A & A \\\\ A & A & A & A & A & A & A & A \\\\ A & A & A & A & A & A & A & A \\\\ A & A & A & A & A & A & A & A \\\\ A & A & A & A & A & A & A & A \\\\ A & A & A & A & A & A & A & A \\\\ A & A & A & A & A & A & A & A \\\\ A & A & A & A & A & A & A & A \\\\  \\end{bmatrix} $"
      ],
      "text/plain": [
       "<IPython.core.display.Math object>"
      ]
     },
     "metadata": {},
     "output_type": "display_data"
    }
   ],
   "source": [
    "a = visualize_one_round_PHOTON256_properties(a,2)"
   ]
  },
  {
   "cell_type": "code",
   "execution_count": 10,
   "id": "349155a0",
   "metadata": {},
   "outputs": [
    {
     "name": "stdout",
     "output_type": "stream",
     "text": [
      "- - - Round 3 - - -\n",
      "After Add-constant:\n"
     ]
    },
    {
     "data": {
      "text/latex": [
       "$\\displaystyle  \\begin{bmatrix} A & A & A & A & A & A & A & A \\\\ A & A & A & A & A & A & A & A \\\\ A & A & A & A & A & A & A & A \\\\ A & A & A & A & A & A & A & A \\\\ A & A & A & A & A & A & A & A \\\\ A & A & A & A & A & A & A & A \\\\ A & A & A & A & A & A & A & A \\\\ A & A & A & A & A & A & A & A \\\\  \\end{bmatrix} $"
      ],
      "text/plain": [
       "<IPython.core.display.Math object>"
      ]
     },
     "metadata": {},
     "output_type": "display_data"
    },
    {
     "name": "stdout",
     "output_type": "stream",
     "text": [
      "After Sub-Cell:\n"
     ]
    },
    {
     "data": {
      "text/latex": [
       "$\\displaystyle  \\begin{bmatrix} A & A & A & A & A & A & A & A \\\\ A & A & A & A & A & A & A & A \\\\ A & A & A & A & A & A & A & A \\\\ A & A & A & A & A & A & A & A \\\\ A & A & A & A & A & A & A & A \\\\ A & A & A & A & A & A & A & A \\\\ A & A & A & A & A & A & A & A \\\\ A & A & A & A & A & A & A & A \\\\  \\end{bmatrix} $"
      ],
      "text/plain": [
       "<IPython.core.display.Math object>"
      ]
     },
     "metadata": {},
     "output_type": "display_data"
    },
    {
     "name": "stdout",
     "output_type": "stream",
     "text": [
      "After Shift-Row:\n"
     ]
    },
    {
     "data": {
      "text/latex": [
       "$\\displaystyle  \\begin{bmatrix} A & A & A & A & A & A & A & A \\\\ A & A & A & A & A & A & A & A \\\\ A & A & A & A & A & A & A & A \\\\ A & A & A & A & A & A & A & A \\\\ A & A & A & A & A & A & A & A \\\\ A & A & A & A & A & A & A & A \\\\ A & A & A & A & A & A & A & A \\\\ A & A & A & A & A & A & A & A \\\\  \\end{bmatrix} $"
      ],
      "text/plain": [
       "<IPython.core.display.Math object>"
      ]
     },
     "metadata": {},
     "output_type": "display_data"
    },
    {
     "name": "stdout",
     "output_type": "stream",
     "text": [
      "After Mix-Column-serial:\n"
     ]
    },
    {
     "data": {
      "text/latex": [
       "$\\displaystyle  \\begin{bmatrix} B & * & * & * & * & * & * & * \\\\ * & * & * & * & * & * & * & * \\\\ * & * & * & * & * & * & * & * \\\\ * & * & * & * & * & * & * & * \\\\ * & * & * & B & * & * & * & * \\\\ * & * & * & * & * & * & * & * \\\\ B & * & * & * & * & * & * & * \\\\ * & * & * & B & * & * & * & * \\\\  \\end{bmatrix} $"
      ],
      "text/plain": [
       "<IPython.core.display.Math object>"
      ]
     },
     "metadata": {},
     "output_type": "display_data"
    }
   ],
   "source": [
    "a = visualize_one_round_PHOTON256_properties(a,3)"
   ]
  },
  {
   "cell_type": "code",
   "execution_count": 11,
   "id": "69ac8fb7",
   "metadata": {},
   "outputs": [
    {
     "name": "stdout",
     "output_type": "stream",
     "text": [
      "- - - Round 4 - - -\n",
      "After Add-constant:\n"
     ]
    },
    {
     "data": {
      "text/latex": [
       "$\\displaystyle  \\begin{bmatrix} B & * & * & * & * & * & * & * \\\\ * & * & * & * & * & * & * & * \\\\ * & * & * & * & * & * & * & * \\\\ * & * & * & * & * & * & * & * \\\\ * & * & * & B & * & * & * & * \\\\ * & * & * & * & * & * & * & * \\\\ B & * & * & * & * & * & * & * \\\\ * & * & * & B & * & * & * & * \\\\  \\end{bmatrix} $"
      ],
      "text/plain": [
       "<IPython.core.display.Math object>"
      ]
     },
     "metadata": {},
     "output_type": "display_data"
    },
    {
     "name": "stdout",
     "output_type": "stream",
     "text": [
      "After Sub-Cell:\n"
     ]
    },
    {
     "data": {
      "text/latex": [
       "$\\displaystyle  \\begin{bmatrix} * & * & * & * & * & * & B & * \\\\ * & * & * & * & * & * & * & B \\\\ * & * & * & * & * & * & * & * \\\\ * & * & B & * & * & * & * & * \\\\ * & * & * & * & B & * & * & * \\\\ * & * & * & * & * & * & B & * \\\\ * & * & * & B & * & * & * & * \\\\ * & * & * & * & * & * & B & * \\\\  \\end{bmatrix} $"
      ],
      "text/plain": [
       "<IPython.core.display.Math object>"
      ]
     },
     "metadata": {},
     "output_type": "display_data"
    },
    {
     "name": "stdout",
     "output_type": "stream",
     "text": [
      "After Shift-Row:\n"
     ]
    },
    {
     "data": {
      "text/latex": [
       "$\\displaystyle  \\begin{bmatrix} * & * & * & * & * & * & B & * \\\\ * & * & * & * & * & * & B & * \\\\ * & * & * & * & * & * & * & * \\\\ * & * & * & * & * & * & * & B \\\\ B & * & * & * & * & * & * & * \\\\ * & B & * & * & * & * & * & * \\\\ * & * & * & * & * & B & * & * \\\\ * & * & * & * & * & * & * & B \\\\  \\end{bmatrix} $"
      ],
      "text/plain": [
       "<IPython.core.display.Math object>"
      ]
     },
     "metadata": {},
     "output_type": "display_data"
    },
    {
     "name": "stdout",
     "output_type": "stream",
     "text": [
      "After Mix-Column-serial:\n"
     ]
    },
    {
     "data": {
      "text/latex": [
       "$\\displaystyle  \\begin{bmatrix} B & * & * & * & * & * & * & * \\\\ * & * & * & * & * & * & * & * \\\\ * & * & * & B & * & * & * & * \\\\ * & * & B & * & * & * & * & * \\\\ * & * & * & * & * & * & * & * \\\\ * & * & * & * & * & * & B & * \\\\ * & * & * & * & B & * & * & * \\\\ * & * & * & * & * & * & * & * \\\\  \\end{bmatrix} $"
      ],
      "text/plain": [
       "<IPython.core.display.Math object>"
      ]
     },
     "metadata": {},
     "output_type": "display_data"
    }
   ],
   "source": [
    "a = visualize_one_round_PHOTON256_properties(a,4)"
   ]
  },
  {
   "cell_type": "markdown",
   "id": "9b579a60",
   "metadata": {},
   "source": [
    "# - - - END - - -"
   ]
  }
 ],
 "metadata": {
  "kernelspec": {
   "display_name": "Python 3 (ipykernel)",
   "language": "python",
   "name": "python3"
  },
  "language_info": {
   "codemirror_mode": {
    "name": "ipython",
    "version": 3
   },
   "file_extension": ".py",
   "mimetype": "text/x-python",
   "name": "python",
   "nbconvert_exporter": "python",
   "pygments_lexer": "ipython3",
   "version": "3.10.6"
  }
 },
 "nbformat": 4,
 "nbformat_minor": 5
}
