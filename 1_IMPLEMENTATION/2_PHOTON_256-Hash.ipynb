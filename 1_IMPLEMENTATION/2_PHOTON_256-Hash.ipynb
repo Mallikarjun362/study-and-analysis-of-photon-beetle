{
 "cells": [
  {
   "cell_type": "markdown",
   "id": "a80f770d",
   "metadata": {},
   "source": [
    "# Implementing Photon-Beetle-Hash Function"
   ]
  },
  {
   "cell_type": "markdown",
   "id": "9fd086ae",
   "metadata": {},
   "source": [
    "# Importing Necessary Libraries"
   ]
  },
  {
   "cell_type": "code",
   "execution_count": 1,
   "id": "a0df696e",
   "metadata": {},
   "outputs": [
    {
     "name": "stdout",
     "output_type": "stream",
     "text": [
      "Galois Field:\n",
      "  name: GF(2^4)\n",
      "  characteristic: 2\n",
      "  degree: 4\n",
      "  order: 16\n",
      "  irreducible_poly: x^4 + x + 1\n",
      "  is_primitive_poly: True\n",
      "  primitive_element: x\n"
     ]
    }
   ],
   "source": [
    "import random\n",
    "import copy\n",
    "from collections import deque\n",
    "import galois\n",
    "GF = galois.GF(2**4)\n",
    "print(GF.properties)"
   ]
  },
  {
   "cell_type": "markdown",
   "id": "795fd26d",
   "metadata": {},
   "source": [
    "# PHOTON<sub>256</sub>-Permutation Function"
   ]
  },
  {
   "cell_type": "code",
   "execution_count": 2,
   "id": "3b14f790",
   "metadata": {},
   "outputs": [],
   "source": [
    "# ---------------------------------------- PHOTON-256-PERMUTATION ---------------------------------------------\n",
    "## SBOX LIST\n",
    "sbox_list = [0xc,5,6,0xb,9,0,0xa,0xd,3,0xe,0xf,8,4,7,1,2]\n",
    "def list_64_to_8x8_matrix(s) -> list[list[int]]:\n",
    "    assert len(s) == 64\n",
    "    m = [[s[i+(j*8)] for j in range(8)] for i in range(8)]\n",
    "    return m\n",
    "def matrix_8x8_to_hex_list(m : list[list[int]]):\n",
    "    lst = []\n",
    "    for col in range(8):\n",
    "        for row in range(8):\n",
    "            lst.append(m[row][col])\n",
    "    return lst\n",
    "## 1.ADD-CONSTANT\n",
    "def add_constant(X : list,k : list):\n",
    "    new_X = copy.deepcopy(X)\n",
    "    RC = [1, 3, 7, 14, 13, 11, 6, 12, 9, 2, 5, 10]\n",
    "    IC = [0, 1, 3, 7, 15, 14, 12, 8]\n",
    "    for i in range(8):\n",
    "        new_X[i][0] = new_X[i][0] ^ RC[k] ^ IC[i]\n",
    "    return new_X\n",
    "## 2.SUB-CELL\n",
    "def sub_cell(X):\n",
    "    new_X = copy.deepcopy(X)\n",
    "    for i in range(8):\n",
    "        for j in range(8):\n",
    "            new_X[i][j] = sbox_list[new_X[i][j]]\n",
    "    return new_X\n",
    "## 3.SHIFT-ROW\n",
    "def shift_row(X):\n",
    "    new_X = copy.deepcopy(X)\n",
    "    for i in range(8):\n",
    "        temp = deque(new_X[i])\n",
    "        temp.rotate(-1*i)\n",
    "        new_X[i] = list(temp)\n",
    "    return new_X\n",
    "## 4.MIX-COLUMN-SERIAL\n",
    "def serial(lst):\n",
    "    M = []\n",
    "    for i in range(7):\n",
    "        a = [0 for j in range(8)]\n",
    "        a[i+1] = 1\n",
    "        M.append(a)\n",
    "    M.append(copy.deepcopy(lst))\n",
    "    return M\n",
    "def matrix_mul(m1,m2):\n",
    "    new_m = [[0 for j in range(8)] for i in range(8)]\n",
    "    for i in range(8):\n",
    "        for j in range(8):\n",
    "            s = 0\n",
    "            for temp in range(8):\n",
    "                s ^= int(GF(m1[i][temp]) * GF(m2[temp][j]))\n",
    "            new_m[i][j] = s\n",
    "    return new_m\n",
    "def mix_column_serial(X):\n",
    "    new_X = copy.deepcopy(X)\n",
    "    M = serial([2, 4, 2, 11, 2, 8, 5, 6])\n",
    "    M8 = matrix_mul(M,M)\n",
    "    for i in range(6):\n",
    "        M8 = matrix_mul(M8,M)\n",
    "    new_X = matrix_mul(M8,new_X)\n",
    "    return new_X\n",
    "## PHOTON 256 PERMUTATION FUNCTION\n",
    "def PHOTON_256(input_hex_str = \"0123456789abcdef0123456789abcdef0123456789abcdef0123456789abcdef\"):\n",
    "    if type(input_hex_str) == \"\":\n",
    "        input_hex_str = [int(i,16) for i in input_hex_str]\n",
    "    assert len(input_hex_str) == 64\n",
    "    X = list_64_to_8x8_matrix(input_hex_str)\n",
    "    # 0 to 11\n",
    "    for i in range(12):\n",
    "        X = add_constant(X,i)\n",
    "        X = sub_cell(X)\n",
    "        X = shift_row(X)\n",
    "        X = mix_column_serial(X)\n",
    "    X = matrix_8x8_to_hex_list(X)\n",
    "    assert len(X) == 64\n",
    "    return X"
   ]
  },
  {
   "cell_type": "markdown",
   "id": "40053721",
   "metadata": {},
   "source": [
    "# Some Utility Functions"
   ]
  },
  {
   "cell_type": "code",
   "execution_count": 3,
   "id": "7535269f",
   "metadata": {},
   "outputs": [],
   "source": [
    "def divide_chunks(l, n):\n",
    "    # looping till length l\n",
    "    lst = []\n",
    "    for i in range(0, len(l), n):\n",
    "        lst.append(l[i:i + n])\n",
    "    return lst\n",
    "def Ozs(V,r):\n",
    "    if len(V) < r:\n",
    "        V.append(1)\n",
    "        for i in range(r - len(V)):\n",
    "            V.append(0)\n",
    "    assert len(V) == r\n",
    "    return V\n",
    "def list_xor(lst1,lst2):\n",
    "    return [lst1[i]^lst2[i] for i in range(len(lst1))]\n",
    "def int_to_bin(a,total_length):\n",
    "    return list(map(int,format(a, f'0{total_length}b')))\n",
    "def bits_list_to_hex_list(lst:list[int]) -> list[int]:\n",
    "    assert len(lst) % 4 == 0\n",
    "    new_list = []\n",
    "    for i in range(len(lst)//4):\n",
    "        a = int(\"\".join(str(b) for b in lst[i*4:i*4+4]), 2)\n",
    "        new_list.append(a)\n",
    "    return new_list\n",
    "def hex_list_to_bits_list(lst):\n",
    "    new_list = []\n",
    "    for i in lst:\n",
    "        new_list += [int(digit) for digit in '{:04b}'.format(i)]\n",
    "    return new_list\n"
   ]
  },
  {
   "cell_type": "markdown",
   "id": "91a4b976",
   "metadata": {},
   "source": [
    "# Photon-Beetle Hash Function"
   ]
  },
  {
   "cell_type": "code",
   "execution_count": 4,
   "id": "0e7d6ed7",
   "metadata": {},
   "outputs": [],
   "source": [
    "def HASH(IV,D,r,c0):\n",
    "    D_list = divide_chunks(D,r)\n",
    "    D_list[-1] = Ozs(D_list[-1],r)\n",
    "    for Di in D_list:\n",
    "        Y_Z = hex_list_to_bits_list(PHOTON_256(bits_list_to_hex_list(IV)))\n",
    "        Y,Z =Y_Z[:r],Y_Z[r:]\n",
    "        W = list_xor(Y,Di)\n",
    "        IV = W + Z\n",
    "    IV = list_xor(IV , int_to_bin(c0,len(IV)))\n",
    "    return IV\n",
    "def TAG(T0,t=256):\n",
    "    T_list = [T0]\n",
    "    for i in range(t//128):\n",
    "        T_list.append(hex_list_to_bits_list(PHOTON_256(bits_list_to_hex_list(T_list[-1]))))\n",
    "    T = []\n",
    "    for Ti in T_list:\n",
    "        T += Ti[:128]\n",
    "    return T\n",
    "# THE MAIN HASH FUNCTION\n",
    "def PHOTON_Beetle_Hash(M,r=128):\n",
    "    M = copy.deepcopy(M)\n",
    "    if len(M) == 0:\n",
    "        IV = [0 for i in range(256)]\n",
    "        T = TAG(list_xor(IV,int_to_bin(1,len(IV))),256)\n",
    "        return T\n",
    "    if len(M) <= 128:\n",
    "        c0 = None\n",
    "        if len(M) < 128 :\n",
    "            c0 = 1\n",
    "        else:\n",
    "            c0 = 2    \n",
    "        IV = Ozs(M,128) + [0 for i in range(128)]\n",
    "        T = TAG(list_xor(IV,int_to_bin(c0,len(IV))),256)\n",
    "        return T\n",
    "    M1,M_ = M[:128] , M[128:]\n",
    "    c0 = None\n",
    "    if len(M_) % r == 0:\n",
    "        c0 = 1\n",
    "    else:\n",
    "        c0 = 2\n",
    "    IV = M1 + [0 for i in range(128)]\n",
    "    IV = HASH(IV,M_,r,c0)\n",
    "    T = TAG(IV,256)\n",
    "    return T"
   ]
  },
  {
   "cell_type": "markdown",
   "id": "d4ac5eec",
   "metadata": {},
   "source": [
    "# Testing"
   ]
  },
  {
   "cell_type": "code",
   "execution_count": 5,
   "id": "66da3f62",
   "metadata": {},
   "outputs": [],
   "source": [
    "# GENERATING RANDOM LIST OF BITS\n",
    "def generate_random_bit_list(l):\n",
    "    lst = [ random.choice([0,1]) for i in range(l)]\n",
    "    return lst\n",
    "my_M = generate_random_bit_list(100)"
   ]
  },
  {
   "cell_type": "code",
   "execution_count": 6,
   "id": "bb808f87",
   "metadata": {},
   "outputs": [],
   "source": [
    "hash_bits = PHOTON_Beetle_Hash(my_M,128)"
   ]
  },
  {
   "cell_type": "code",
   "execution_count": 7,
   "id": "46a8b273",
   "metadata": {},
   "outputs": [
    {
     "name": "stdout",
     "output_type": "stream",
     "text": [
      "Message :\n",
      "0000111000011011010011111101000011100100000001001010101111011000110000011011110011011010110100010010\n",
      "\n",
      "Hash :\n",
      "000011100001101101001111110100001110010000000100101010111101100011000001101111001101101011010001001010000000000000000000000000001101101011101010011010000000100000001010001110011111001100001001100110011001111100100101000001100001001001110100000100111100111111110100110011110101101111110011101111011001011110011110101011011100011000101100111010000011101110110101110111000011111110011001\n"
     ]
    }
   ],
   "source": [
    "print(\"Message :\")\n",
    "print(\"\".join(map(str,my_M)))\n",
    "print()\n",
    "print(\"Hash :\")\n",
    "print(\"\".join(map(str,hash_bits)))"
   ]
  },
  {
   "cell_type": "markdown",
   "id": "1ad2261c",
   "metadata": {},
   "source": [
    "# - - - END - - -"
   ]
  }
 ],
 "metadata": {
  "kernelspec": {
   "display_name": "Python 3 (ipykernel)",
   "language": "python",
   "name": "python3"
  },
  "language_info": {
   "codemirror_mode": {
    "name": "ipython",
    "version": 3
   },
   "file_extension": ".py",
   "mimetype": "text/x-python",
   "name": "python",
   "nbconvert_exporter": "python",
   "pygments_lexer": "ipython3",
   "version": "3.10.6"
  }
 },
 "nbformat": 4,
 "nbformat_minor": 5
}
