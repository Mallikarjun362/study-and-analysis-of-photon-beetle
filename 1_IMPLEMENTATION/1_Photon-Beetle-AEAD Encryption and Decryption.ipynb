{
 "cells": [
  {
   "cell_type": "markdown",
   "id": "f16efe52",
   "metadata": {},
   "source": [
    "# Implementing Encryption and Decryption of Photon-Beetle-AEAD Cipher"
   ]
  },
  {
   "cell_type": "markdown",
   "id": "133a0ca6",
   "metadata": {},
   "source": [
    "# Importing necessary Libraries"
   ]
  },
  {
   "cell_type": "code",
   "execution_count": 1,
   "id": "185a7371",
   "metadata": {},
   "outputs": [
    {
     "name": "stdout",
     "output_type": "stream",
     "text": [
      "Galois Field:\n",
      "  name: GF(2^4)\n",
      "  characteristic: 2\n",
      "  degree: 4\n",
      "  order: 16\n",
      "  irreducible_poly: x^4 + x + 1\n",
      "  is_primitive_poly: True\n",
      "  primitive_element: x\n"
     ]
    }
   ],
   "source": [
    "import random\n",
    "import copy\n",
    "from collections import deque\n",
    "import galois\n",
    "GF = galois.GF(2**4)\n",
    "print(GF.properties)"
   ]
  },
  {
   "cell_type": "markdown",
   "id": "dacfa8ae",
   "metadata": {},
   "source": [
    "# PHOTON<sub>256</sub> permutation"
   ]
  },
  {
   "cell_type": "code",
   "execution_count": 2,
   "id": "a042dfb6",
   "metadata": {},
   "outputs": [],
   "source": [
    "# ---------------------------------------- PHOTON-256-PERMUTATION ---------------------------------------------\n",
    "## SBOX LIST\n",
    "sbox_list = [0xc,5,6,0xb,9,0,0xa,0xd,3,0xe,0xf,8,4,7,1,2]\n",
    "def list_64_to_8x8_matrix(s) -> list[list[int]]:\n",
    "    assert len(s) == 64\n",
    "    m = [[s[i+(j*8)] for j in range(8)] for i in range(8)]\n",
    "    return m\n",
    "def matrix_8x8_to_hex_list(m : list[list[int]]):\n",
    "    lst = []\n",
    "    for col in range(8):\n",
    "        for row in range(8):\n",
    "            lst.append(m[row][col])\n",
    "    return lst\n",
    "## 1.ADD-CONSTANT\n",
    "def add_constant(X : list,k : list):\n",
    "    new_X = copy.deepcopy(X)\n",
    "    RC = [1, 3, 7, 14, 13, 11, 6, 12, 9, 2, 5, 10]\n",
    "    IC = [0, 1, 3, 7, 15, 14, 12, 8]\n",
    "    for i in range(8):\n",
    "        new_X[i][0] = new_X[i][0] ^ RC[k] ^ IC[i]\n",
    "    return new_X\n",
    "## 2.SUB-CELL\n",
    "def sub_cell(X):\n",
    "    new_X = copy.deepcopy(X)\n",
    "    for i in range(8):\n",
    "        for j in range(8):\n",
    "            new_X[i][j] = sbox_list[new_X[i][j]]\n",
    "    return new_X\n",
    "## 3.SHIFT-ROW\n",
    "def shift_row(X):\n",
    "    new_X = copy.deepcopy(X)\n",
    "    for i in range(8):\n",
    "        temp = deque(new_X[i])\n",
    "        temp.rotate(-1*i)\n",
    "        new_X[i] = list(temp)\n",
    "    return new_X\n",
    "## 4.MIX-COLUMN-SERIAL\n",
    "def serial(lst):\n",
    "    M = []\n",
    "    for i in range(7):\n",
    "        a = [0 for j in range(8)]\n",
    "        a[i+1] = 1\n",
    "        M.append(a)\n",
    "    M.append(copy.deepcopy(lst))\n",
    "    return M\n",
    "def matrix_mul(m1,m2):\n",
    "    new_m = [[0 for j in range(8)] for i in range(8)]\n",
    "    for i in range(8):\n",
    "        for j in range(8):\n",
    "            s = 0\n",
    "            for temp in range(8):\n",
    "                s ^= int(GF(m1[i][temp]) * GF(m2[temp][j]))\n",
    "            new_m[i][j] = s\n",
    "    return new_m\n",
    "def mix_column_serial(X):\n",
    "    new_X = copy.deepcopy(X)\n",
    "    M = serial([2, 4, 2, 11, 2, 8, 5, 6])\n",
    "    M8 = matrix_mul(M,M)\n",
    "    for i in range(6):\n",
    "        M8 = matrix_mul(M8,M)\n",
    "    new_X = matrix_mul(M8,new_X)\n",
    "    return new_X\n",
    "## PHOTON 256 PERMUTATION FUNCTION\n",
    "def PHOTON_256(input_hex_str = \"0123456789abcdef0123456789abcdef0123456789abcdef0123456789abcdef\"):\n",
    "    if type(input_hex_str) == \"\":\n",
    "        input_hex_str = [int(i,16) for i in input_hex_str]\n",
    "    assert len(input_hex_str) == 64\n",
    "    X = list_64_to_8x8_matrix(input_hex_str)\n",
    "    # 0 to 11\n",
    "    for i in range(12):\n",
    "        X = add_constant(X,i)\n",
    "        X = sub_cell(X)\n",
    "        X = shift_row(X)\n",
    "        X = mix_column_serial(X)\n",
    "    X = matrix_8x8_to_hex_list(X)\n",
    "    assert len(X) == 64\n",
    "    return X"
   ]
  },
  {
   "cell_type": "markdown",
   "id": "bff6d897",
   "metadata": {},
   "source": [
    "# Mathematical component \"RHO\" and \"RHO<sup>-1</sup>\""
   ]
  },
  {
   "cell_type": "code",
   "execution_count": 3,
   "id": "85af80c4",
   "metadata": {},
   "outputs": [],
   "source": [
    "## ---------------------------- MATHEMATICAL COMPONENT \"RHO\" and \"RHO_INVERSE\" --------------------------------\n",
    "def shuffel(S):\n",
    "    r = len(S)\n",
    "    S1 , S2 = S[:r//2],S[r//2:]\n",
    "    S1 = [S1[-1]] + S1[:-1]\n",
    "    return S2 + S1\n",
    "def list_xor(lst1,lst2):\n",
    "    return [lst1[i]^lst2[i] for i in range(len(lst1))]\n",
    "def Ozs(V,r):\n",
    "    if len(V) < r:\n",
    "        V.append(1)\n",
    "        for i in range(r - len(V)):\n",
    "            V.append(0)\n",
    "    assert len(V) == r\n",
    "    return V\n",
    "def rho(S,U):\n",
    "    # S = list of bits - State Bits\n",
    "    # U = list of bits - Message Bits\n",
    "    # len(U)  <= len(S)\n",
    "    # mostly len(S)  == len(V) == r\n",
    "    # input   : (part_r,M)\n",
    "    # returns : (part_r,C)\n",
    "    r = len(S)\n",
    "    V = list_xor(shuffel(S)[:len(U)],U)\n",
    "    S = list_xor(S,Ozs(U,r))\n",
    "    return (S,V)\n",
    "def rho_inverse(S,V):\n",
    "    # S = list of bits - State Bits\n",
    "    # V = list of bits - Cipher Bits\n",
    "    # len(S)  <= len(V)\n",
    "    # mostly len(S)  == len(V) == r\n",
    "    r = len(S)\n",
    "    U = list_xor(shuffel(S)[:len(V)],V)\n",
    "    S = list_xor(S,Ozs(U,r))\n",
    "    return (S,U)"
   ]
  },
  {
   "cell_type": "markdown",
   "id": "3eec4946",
   "metadata": {},
   "source": [
    "# PHOTON-Beetle-AEAD \"Encryption\""
   ]
  },
  {
   "cell_type": "code",
   "execution_count": 4,
   "id": "4b6402c3",
   "metadata": {},
   "outputs": [],
   "source": [
    "# --------------------------------- PHOTON-BEETLE-AEAD-ENCRYPTION --------------------------------------------\n",
    "def divide_chunks(l, n):\n",
    "    # looping till length l\n",
    "    lst = []\n",
    "    for i in range(0, len(l), n):\n",
    "        lst.append(l[i:i + n])\n",
    "    return lst\n",
    "def bits_list_to_hex_list(lst:list[int]) -> list[int]:\n",
    "    assert len(lst) % 4 == 0\n",
    "    new_list = []\n",
    "    for i in range(len(lst)//4):\n",
    "        a = int(\"\".join(str(b) for b in lst[i*4:i*4+4]), 2)\n",
    "        new_list.append(a)\n",
    "    return new_list\n",
    "def hex_list_to_bits_list(lst):\n",
    "    new_list = []\n",
    "    for i in lst:\n",
    "        new_list += [int(digit) for digit in '{:04b}'.format(i)]\n",
    "    return new_list\n",
    "## --------------------------------------------STEP_1 --------------------------------------------------------\n",
    "def step_1_sub(IV,A,r,c0=0):\n",
    "    # IV => list of bits {0,1} - to - list of hex values\n",
    "    # c0 can be (1,2,3,4)\n",
    "    assert len(IV) == 256\n",
    "    # PHOTON\n",
    "    IV = bits_list_to_hex_list(IV)\n",
    "    IV = PHOTON_256(IV)\n",
    "    IV = hex_list_to_bits_list(IV)\n",
    "    assert len(IV) == 256\n",
    "    part_r , part_c = IV[:r] , IV[r:]\n",
    "    assert len(part_r) == len(A)\n",
    "    # PART-R Transformation\n",
    "    part_r = list_xor(part_r,A)\n",
    "    # PART-C Transformation\n",
    "    if c0 == 0:\n",
    "        pass\n",
    "    elif c0 == 1:\n",
    "        part_c[-1] ^= 1\n",
    "    elif c0 == 2:\n",
    "        part_c[-2] ^= 1\n",
    "    elif c0 == 3:\n",
    "        part_c[-1] ^= 1\n",
    "        part_c[-2] ^= 1\n",
    "    elif c0 == 4:\n",
    "        part_c[-3] ^= 1\n",
    "    # Combining\n",
    "    IV = part_r + part_c\n",
    "    return IV\n",
    "def step_1(N,K,A,r,c0):\n",
    "    assert len(N) + len(K) == 256\n",
    "    if len(A) == 0:\n",
    "        return N + K\n",
    "    else:\n",
    "        # chunks of length \"r\"\n",
    "        A_lst = list(divide_chunks(A,r))\n",
    "        last_ele = Ozs(A_lst.pop(),r)\n",
    "        IV = N + K\n",
    "        for a in A_lst:\n",
    "            IV = step_1_sub(IV,a,r,0)\n",
    "        IV = step_1_sub(IV,last_ele,r,c0)\n",
    "        return IV\n",
    "## --------------------------------------------STEP_2 --------------------------------------------------------\n",
    "def step_2_sub(IV,M,r,c1=0):\n",
    "    assert len(IV) == 256\n",
    "    # Photon beetle\n",
    "    IV = bits_list_to_hex_list(IV)\n",
    "    IV = PHOTON_256(IV)\n",
    "    IV = hex_list_to_bits_list(IV)\n",
    "    part_r , part_c = IV[:r] , IV[r:]\n",
    "    # PART-R Transformation\n",
    "    part_r,C = rho(part_r,M)\n",
    "    # PART-C Transformation\n",
    "    if c1 == 0:\n",
    "        pass\n",
    "    elif c1 == 1:\n",
    "        part_c[-1] ^= 1\n",
    "    elif c1 == 2:\n",
    "        part_c[-2] ^= 1\n",
    "    elif c1 == 5:\n",
    "        part_c[-1] ^= 1\n",
    "        part_c[-3] ^= 1\n",
    "    elif c1 == 6:\n",
    "        part_c[-2] ^= 1\n",
    "        part_c[-3] ^= 1\n",
    "    # Combining\n",
    "    IV = part_r + part_c\n",
    "    return (IV,C)\n",
    "def step_2(IV,M,r,c1):\n",
    "    if len(M) == 0:\n",
    "        pass\n",
    "    else:\n",
    "        M_lst = list(divide_chunks(M,r))\n",
    "        last_ele = M_lst.pop()\n",
    "        C_lst = []\n",
    "        for m in M_lst:\n",
    "            IV , temp_c = step_2_sub(IV,m,r,0)\n",
    "            C_lst += temp_c\n",
    "        IV , temp_c = step_2_sub(IV,last_ele,r,c1)\n",
    "        C_lst += temp_c\n",
    "        \n",
    "        IV = bits_list_to_hex_list(IV)\n",
    "        IV = PHOTON_256(IV)\n",
    "        IV = hex_list_to_bits_list(IV)\n",
    "        tag = IV[:128]\n",
    "        \n",
    "        return (C_lst,tag)\n",
    "## ----------------------------------------- MAIN INTERFACE-ENCRYPTION ---------------------------------------\n",
    "# K = bits list , len(k) arbitary\n",
    "# N = bits list , len(N) arbitary\n",
    "# len(K) + len(N) == 256\n",
    "def photon_beetle_enc(K,N,A,M,r=128):\n",
    "    assert len(K) + len(N) == 256\n",
    "    \n",
    "    choice_c0 = {\"11\" : 1,\"10\" : 2,\"01\" : 3,\"00\" : 4,}\n",
    "    choice_c1 = {\"11\" : 1,\"10\" : 2,\"01\" : 5,\"00\" : 6,}\n",
    "    c0 = choice_c0[f\"{int(len(M)>0)}{int(len(A)%r==0)}\"]\n",
    "    c1 = choice_c1[f\"{int(len(A)>0)}{int(len(M)%r==0)}\"]\n",
    "    m_length = len(M)\n",
    "    IV = step_1(N,K,A,r,c0)\n",
    "    C,T = step_2(IV,M,r,c1)\n",
    "    return [C,T]"
   ]
  },
  {
   "cell_type": "markdown",
   "id": "ca57cf9a",
   "metadata": {},
   "source": [
    "# PHOTON-Beetle-AEAD \"Decryption\""
   ]
  },
  {
   "cell_type": "code",
   "execution_count": 5,
   "id": "bc0b76d7",
   "metadata": {},
   "outputs": [],
   "source": [
    "## --------------------------------------------STEP_2 --------------------------------------------------------\n",
    "def step_2_dec_sub(IV,C,r,c1=0):\n",
    "    #c1 can be (1,2,5,6)\n",
    "    # returns\n",
    "    IV = bits_list_to_hex_list(IV)\n",
    "    IV = PHOTON_256(IV)\n",
    "    IV = hex_list_to_bits_list(IV)\n",
    "    part_r , part_c = IV[:r] , IV[r:]\n",
    "    part_r,M = rho_inverse(part_r,C)\n",
    "    if c1 == 0:\n",
    "        pass\n",
    "    elif c1 == 1:\n",
    "        part_c[-1] ^= 1\n",
    "    elif c1 == 2:\n",
    "        part_c[-2] ^= 1\n",
    "    elif c1 == 5:\n",
    "        part_c[-1] ^= 1\n",
    "        part_c[-3] ^= 1\n",
    "    elif c1 == 6:\n",
    "        part_c[-2] ^= 1\n",
    "        part_c[-3] ^= 1\n",
    "    IV = part_r + part_c\n",
    "    return (IV,M)\n",
    "def step_2_dec(IV,C,r,c1):\n",
    "    if len(C) == 0:\n",
    "        pass\n",
    "    else:\n",
    "        C_lst = list(divide_chunks(C,r))\n",
    "        last_ele = C_lst.pop()\n",
    "        M_lst = []\n",
    "        for c in C_lst:\n",
    "            IV , temp_m = step_2_dec_sub(IV,c,r,0)\n",
    "            M_lst += temp_m\n",
    "        IV , temp_m = step_2_dec_sub(IV,last_ele,r,c1)\n",
    "        M_lst += temp_m\n",
    "        IV = bits_list_to_hex_list(IV)\n",
    "        IV = PHOTON_256(IV)\n",
    "        IV = hex_list_to_bits_list(IV)\n",
    "        tag = IV[:128]\n",
    "        return (M_lst,tag)\n",
    "## ----------------------------------------- MAIN INTERFACE-DECRYPTION ---------------------------------------\n",
    "def photon_beetle_dec(K,N,A,C,T,r=128):\n",
    "    assert len(K) + len(N) == 256\n",
    "    choice_c0 = {\"11\" : 1,\"10\" : 2,\"01\" : 3,\"00\" : 4,}\n",
    "    choice_c1 = {\"11\" : 1,\"10\" : 2,\"01\" : 5,\"00\" : 6,}\n",
    "    c0 = choice_c0[f\"{int(len(C)>0)}{int(len(A)%r==0)}\"]\n",
    "    c1 = choice_c1[f\"{int(len(A)>0)}{int(len(C)%r==0)}\"]\n",
    "    c_length = len(C)\n",
    "    # STEP 1 SAME AS ENCRYPTION\n",
    "    IV = step_1(N,K,A,r,c0)\n",
    "    M,new_T = step_2_dec(IV,C,r,c1)\n",
    "    return [M[:c_length],new_T]"
   ]
  },
  {
   "cell_type": "markdown",
   "id": "d9023813",
   "metadata": {},
   "source": [
    "# Test - Encryption and Decryption"
   ]
  },
  {
   "cell_type": "code",
   "execution_count": 6,
   "id": "73921e36",
   "metadata": {},
   "outputs": [],
   "source": [
    "def generate_random_bit_list(l):\n",
    "    lst = [ random.choice([0,1]) for i in range(l)]\n",
    "    return lst\n",
    "# GENERATING RANDOM BIT STREAMS\n",
    "my_K = generate_random_bit_list(128)\n",
    "my_N = generate_random_bit_list(128)\n",
    "my_A = generate_random_bit_list(500)\n",
    "my_M = generate_random_bit_list(700)"
   ]
  },
  {
   "cell_type": "code",
   "execution_count": 7,
   "id": "9a7ab75d",
   "metadata": {},
   "outputs": [],
   "source": [
    "# ENCRYPTION\n",
    "my_C,my_T = photon_beetle_enc(my_K,my_N,my_A,my_M)\n",
    "# DECRYPTION\n",
    "out_M,out_T = photon_beetle_dec(my_K,my_N,my_A,my_C,my_T)"
   ]
  },
  {
   "cell_type": "code",
   "execution_count": 8,
   "id": "f9ee8cc0",
   "metadata": {},
   "outputs": [
    {
     "name": "stdout",
     "output_type": "stream",
     "text": [
      "Message True\n",
      "Tag     True\n"
     ]
    }
   ],
   "source": [
    "my_M_str = \"\".join(map(str,my_M))\n",
    "out_M_str = \"\".join(map(str,out_M))\n",
    "my_T_str = \"\".join(map(str,my_T))\n",
    "out_T_str = \"\".join(map(str,out_T))\n",
    "print(\"Message\" , my_M_str == out_M_str)\n",
    "print(\"Tag    \" , my_T_str == out_T_str)"
   ]
  },
  {
   "cell_type": "markdown",
   "id": "65cc447d",
   "metadata": {},
   "source": [
    "# ============================================================"
   ]
  },
  {
   "cell_type": "markdown",
   "id": "dd55c49e",
   "metadata": {},
   "source": [
    "# Encryption and Decryption of messages (Strings)"
   ]
  },
  {
   "cell_type": "code",
   "execution_count": 9,
   "id": "648659e3",
   "metadata": {},
   "outputs": [],
   "source": [
    "KN_BITS = generate_random_bit_list(256)\n",
    "A_BITS = generate_random_bit_list(100)"
   ]
  },
  {
   "cell_type": "code",
   "execution_count": 10,
   "id": "da3c9e1f",
   "metadata": {},
   "outputs": [],
   "source": [
    "def int_to_bin(a,total_length):\n",
    "    return list(map(int,format(a, f'0{total_length}b')))\n",
    "def bits_list_to_str(lst:list[int]) -> list[int]:\n",
    "    assert len(lst) % 8 == 0\n",
    "    out_str = \"\"\n",
    "    for i in range(len(lst)//8):\n",
    "        a = chr(int(\"\".join(str(b) for b in lst[i*8:i*8+8]), 2))\n",
    "        out_str += a\n",
    "    return out_str\n",
    "def str_to_bits_list(s:str):\n",
    "    lst = []\n",
    "    for i in s:\n",
    "        lst += int_to_bin(ord(i),8)\n",
    "    return lst\n",
    "def enc_str(s:str):\n",
    "    M_bits_lst = str_to_bits_list(s)\n",
    "    C_bits_lst , T_bits_lst = photon_beetle_enc(KN_BITS[:128],KN_BITS[128:],A_BITS,M_bits_lst,)\n",
    "    C_assci_str = bits_list_to_str(C_bits_lst)\n",
    "    T_assci_str = bits_list_to_str(T_bits_lst)\n",
    "    return [C_assci_str,T_assci_str]\n",
    "def dec_str(cipher_text:str,tag_str:str):\n",
    "    C_BITS = str_to_bits_list(cipher_text)\n",
    "    T_BITS = str_to_bits_list(tag_str)\n",
    "    M_bits_list , my_T_bits_list = photon_beetle_dec(KN_BITS[:128],KN_BITS[128:],A_BITS,C_BITS,T_BITS)\n",
    "    M_assci_str = bits_list_to_str(M_bits_list)\n",
    "    my_T_str = bits_list_to_str(my_T_bits_list)\n",
    "    if my_T_str == tag_str:\n",
    "        return M_assci_str\n",
    "    else:\n",
    "        return \"--NOPE--\""
   ]
  },
  {
   "cell_type": "code",
   "execution_count": 11,
   "id": "c3bb0e7f",
   "metadata": {},
   "outputs": [],
   "source": [
    "# ENCRYPTING THE STRING \"Hello\"\n",
    "# GETTING A CIPHER AND A TAG\n",
    "c,t = enc_str(\"Hello\")"
   ]
  },
  {
   "cell_type": "code",
   "execution_count": 14,
   "id": "31f575e6",
   "metadata": {},
   "outputs": [
    {
     "name": "stdout",
     "output_type": "stream",
     "text": [
      "Cipher text : ×7¾«\n"
     ]
    }
   ],
   "source": [
    "print(\"Cipher text :\",c)"
   ]
  },
  {
   "cell_type": "code",
   "execution_count": 15,
   "id": "f2fd3a89",
   "metadata": {},
   "outputs": [
    {
     "data": {
      "text/plain": [
       "'Hello'"
      ]
     },
     "execution_count": 15,
     "metadata": {},
     "output_type": "execute_result"
    }
   ],
   "source": [
    "# DECRYPTING THE CIPHER TEXT\n",
    "dec_str(c,t)"
   ]
  },
  {
   "cell_type": "markdown",
   "id": "9ef11305",
   "metadata": {},
   "source": [
    "# DONE !!!"
   ]
  }
 ],
 "metadata": {
  "kernelspec": {
   "display_name": "Python 3 (ipykernel)",
   "language": "python",
   "name": "python3"
  },
  "language_info": {
   "codemirror_mode": {
    "name": "ipython",
    "version": 3
   },
   "file_extension": ".py",
   "mimetype": "text/x-python",
   "name": "python",
   "nbconvert_exporter": "python",
   "pygments_lexer": "ipython3",
   "version": "3.10.6"
  }
 },
 "nbformat": 4,
 "nbformat_minor": 5
}
